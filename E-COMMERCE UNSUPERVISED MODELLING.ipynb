{
 "cells": [
  {
   "cell_type": "markdown",
   "metadata": {},
   "source": [
    "# DEFINING THE BUSINESS PROBLEM."
   ]
  },
  {
   "cell_type": "markdown",
   "metadata": {},
   "source": [
    "## Defining the question\n",
    "\n",
    "Kira Plastinina is a Russian brand that is sold through a defunct chain of retail stores in Russia, Ukraine, Kazakhstan, Belarus, China, Philippines, and Armenia. The brand’s Sales and Marketing team would like to understand their customer’s behavior from data that they have collected over the past year. More specifically, so as to learn the characteristics of customer groups.\n",
    "\n",
    "Perform clustering stating insights drawn from your analysis and visualizations.\n",
    "Upon implementation, provide comparisons between the approaches learned this week i.e. K-Means clustering vs Hierarchical clustering highlighting the strengths and limitations of each approach in the context of your analysis. \n",
    "Your findings should help inform the team in formulating the marketing and sales strategies of the brand. "
   ]
  },
  {
   "cell_type": "markdown",
   "metadata": {},
   "source": [
    "## Defining the metric for success.\n",
    "Fairly accurate unsupervised model fitted to the data so as to cluster it into categories"
   ]
  },
  {
   "cell_type": "markdown",
   "metadata": {},
   "source": [
    "## Understanding the context\n",
    "In this day and age when most people “live” on the internet, businesses have turned to the internet to search for their customers. This project aims at improving marketing of the russian brand, by understanding customer behaviour.\n",
    "This will help the business to know which products should be marketed to which specific customers."
   ]
  },
  {
   "cell_type": "markdown",
   "metadata": {},
   "source": [
    "## Recording the experimental design.\n",
    "Data cleaning and exploratory data analysis will be done. Unsupervised algorithms will be trained on the data, evaluation of the algorithm and if need be improvements to be made on  model. Finally documentation will be done."
   ]
  },
  {
   "cell_type": "markdown",
   "metadata": {},
   "source": [
    "## Data relevance\n"
   ]
  },
  {
   "cell_type": "markdown",
   "metadata": {},
   "source": [
    "# LOADING THE DATA"
   ]
  },
  {
   "cell_type": "code",
   "execution_count": 76,
   "metadata": {},
   "outputs": [],
   "source": [
    "e_com = read.csv('./online_shoppers_intention.csv')"
   ]
  },
  {
   "cell_type": "markdown",
   "metadata": {},
   "source": [
    "## Checking the data"
   ]
  },
  {
   "cell_type": "code",
   "execution_count": 77,
   "metadata": {},
   "outputs": [
    {
     "data": {
      "text/html": [
       "<table>\n",
       "<thead><tr><th scope=col>Administrative</th><th scope=col>Administrative_Duration</th><th scope=col>Informational</th><th scope=col>Informational_Duration</th><th scope=col>ProductRelated</th><th scope=col>ProductRelated_Duration</th><th scope=col>BounceRates</th><th scope=col>ExitRates</th><th scope=col>PageValues</th><th scope=col>SpecialDay</th><th scope=col>Month</th><th scope=col>OperatingSystems</th><th scope=col>Browser</th><th scope=col>Region</th><th scope=col>TrafficType</th><th scope=col>VisitorType</th><th scope=col>Weekend</th><th scope=col>Revenue</th></tr></thead>\n",
       "<tbody>\n",
       "\t<tr><td>0                </td><td> 0               </td><td>0                </td><td> 0               </td><td> 1               </td><td>  0.000000       </td><td>0.20000000       </td><td>0.2000000        </td><td>0                </td><td>0                </td><td>Feb              </td><td>1                </td><td>1                </td><td>1                </td><td>1                </td><td>Returning_Visitor</td><td>FALSE            </td><td>FALSE            </td></tr>\n",
       "\t<tr><td>0                </td><td> 0               </td><td>0                </td><td> 0               </td><td> 2               </td><td> 64.000000       </td><td>0.00000000       </td><td>0.1000000        </td><td>0                </td><td>0                </td><td>Feb              </td><td>2                </td><td>2                </td><td>1                </td><td>2                </td><td>Returning_Visitor</td><td>FALSE            </td><td>FALSE            </td></tr>\n",
       "\t<tr><td>0                </td><td>-1               </td><td>0                </td><td>-1               </td><td> 1               </td><td> -1.000000       </td><td>0.20000000       </td><td>0.2000000        </td><td>0                </td><td>0                </td><td>Feb              </td><td>4                </td><td>1                </td><td>9                </td><td>3                </td><td>Returning_Visitor</td><td>FALSE            </td><td>FALSE            </td></tr>\n",
       "\t<tr><td>0                </td><td> 0               </td><td>0                </td><td> 0               </td><td> 2               </td><td>  2.666667       </td><td>0.05000000       </td><td>0.1400000        </td><td>0                </td><td>0                </td><td>Feb              </td><td>3                </td><td>2                </td><td>2                </td><td>4                </td><td>Returning_Visitor</td><td>FALSE            </td><td>FALSE            </td></tr>\n",
       "\t<tr><td>0                </td><td> 0               </td><td>0                </td><td> 0               </td><td>10               </td><td>627.500000       </td><td>0.02000000       </td><td>0.0500000        </td><td>0                </td><td>0                </td><td>Feb              </td><td>3                </td><td>3                </td><td>1                </td><td>4                </td><td>Returning_Visitor</td><td> TRUE            </td><td>FALSE            </td></tr>\n",
       "\t<tr><td>0                </td><td> 0               </td><td>0                </td><td> 0               </td><td>19               </td><td>154.216667       </td><td>0.01578947       </td><td>0.0245614        </td><td>0                </td><td>0                </td><td>Feb              </td><td>2                </td><td>2                </td><td>1                </td><td>3                </td><td>Returning_Visitor</td><td>FALSE            </td><td>FALSE            </td></tr>\n",
       "</tbody>\n",
       "</table>\n"
      ],
      "text/latex": [
       "\\begin{tabular}{r|llllllllllllllllll}\n",
       " Administrative & Administrative\\_Duration & Informational & Informational\\_Duration & ProductRelated & ProductRelated\\_Duration & BounceRates & ExitRates & PageValues & SpecialDay & Month & OperatingSystems & Browser & Region & TrafficType & VisitorType & Weekend & Revenue\\\\\n",
       "\\hline\n",
       "\t 0                   &  0                  & 0                   &  0                  &  1                  &   0.000000          & 0.20000000          & 0.2000000           & 0                   & 0                   & Feb                 & 1                   & 1                   & 1                   & 1                   & Returning\\_Visitor & FALSE               & FALSE              \\\\\n",
       "\t 0                   &  0                  & 0                   &  0                  &  2                  &  64.000000          & 0.00000000          & 0.1000000           & 0                   & 0                   & Feb                 & 2                   & 2                   & 1                   & 2                   & Returning\\_Visitor & FALSE               & FALSE              \\\\\n",
       "\t 0                   & -1                  & 0                   & -1                  &  1                  &  -1.000000          & 0.20000000          & 0.2000000           & 0                   & 0                   & Feb                 & 4                   & 1                   & 9                   & 3                   & Returning\\_Visitor & FALSE               & FALSE              \\\\\n",
       "\t 0                   &  0                  & 0                   &  0                  &  2                  &   2.666667          & 0.05000000          & 0.1400000           & 0                   & 0                   & Feb                 & 3                   & 2                   & 2                   & 4                   & Returning\\_Visitor & FALSE               & FALSE              \\\\\n",
       "\t 0                   &  0                  & 0                   &  0                  & 10                  & 627.500000          & 0.02000000          & 0.0500000           & 0                   & 0                   & Feb                 & 3                   & 3                   & 1                   & 4                   & Returning\\_Visitor &  TRUE               & FALSE              \\\\\n",
       "\t 0                   &  0                  & 0                   &  0                  & 19                  & 154.216667          & 0.01578947          & 0.0245614           & 0                   & 0                   & Feb                 & 2                   & 2                   & 1                   & 3                   & Returning\\_Visitor & FALSE               & FALSE              \\\\\n",
       "\\end{tabular}\n"
      ],
      "text/markdown": [
       "\n",
       "| Administrative | Administrative_Duration | Informational | Informational_Duration | ProductRelated | ProductRelated_Duration | BounceRates | ExitRates | PageValues | SpecialDay | Month | OperatingSystems | Browser | Region | TrafficType | VisitorType | Weekend | Revenue |\n",
       "|---|---|---|---|---|---|---|---|---|---|---|---|---|---|---|---|---|---|\n",
       "| 0                 |  0                | 0                 |  0                |  1                |   0.000000        | 0.20000000        | 0.2000000         | 0                 | 0                 | Feb               | 1                 | 1                 | 1                 | 1                 | Returning_Visitor | FALSE             | FALSE             |\n",
       "| 0                 |  0                | 0                 |  0                |  2                |  64.000000        | 0.00000000        | 0.1000000         | 0                 | 0                 | Feb               | 2                 | 2                 | 1                 | 2                 | Returning_Visitor | FALSE             | FALSE             |\n",
       "| 0                 | -1                | 0                 | -1                |  1                |  -1.000000        | 0.20000000        | 0.2000000         | 0                 | 0                 | Feb               | 4                 | 1                 | 9                 | 3                 | Returning_Visitor | FALSE             | FALSE             |\n",
       "| 0                 |  0                | 0                 |  0                |  2                |   2.666667        | 0.05000000        | 0.1400000         | 0                 | 0                 | Feb               | 3                 | 2                 | 2                 | 4                 | Returning_Visitor | FALSE             | FALSE             |\n",
       "| 0                 |  0                | 0                 |  0                | 10                | 627.500000        | 0.02000000        | 0.0500000         | 0                 | 0                 | Feb               | 3                 | 3                 | 1                 | 4                 | Returning_Visitor |  TRUE             | FALSE             |\n",
       "| 0                 |  0                | 0                 |  0                | 19                | 154.216667        | 0.01578947        | 0.0245614         | 0                 | 0                 | Feb               | 2                 | 2                 | 1                 | 3                 | Returning_Visitor | FALSE             | FALSE             |\n",
       "\n"
      ],
      "text/plain": [
       "  Administrative Administrative_Duration Informational Informational_Duration\n",
       "1 0               0                      0              0                    \n",
       "2 0               0                      0              0                    \n",
       "3 0              -1                      0             -1                    \n",
       "4 0               0                      0              0                    \n",
       "5 0               0                      0              0                    \n",
       "6 0               0                      0              0                    \n",
       "  ProductRelated ProductRelated_Duration BounceRates ExitRates PageValues\n",
       "1  1               0.000000              0.20000000  0.2000000 0         \n",
       "2  2              64.000000              0.00000000  0.1000000 0         \n",
       "3  1              -1.000000              0.20000000  0.2000000 0         \n",
       "4  2               2.666667              0.05000000  0.1400000 0         \n",
       "5 10             627.500000              0.02000000  0.0500000 0         \n",
       "6 19             154.216667              0.01578947  0.0245614 0         \n",
       "  SpecialDay Month OperatingSystems Browser Region TrafficType\n",
       "1 0          Feb   1                1       1      1          \n",
       "2 0          Feb   2                2       1      2          \n",
       "3 0          Feb   4                1       9      3          \n",
       "4 0          Feb   3                2       2      4          \n",
       "5 0          Feb   3                3       1      4          \n",
       "6 0          Feb   2                2       1      3          \n",
       "  VisitorType       Weekend Revenue\n",
       "1 Returning_Visitor FALSE   FALSE  \n",
       "2 Returning_Visitor FALSE   FALSE  \n",
       "3 Returning_Visitor FALSE   FALSE  \n",
       "4 Returning_Visitor FALSE   FALSE  \n",
       "5 Returning_Visitor  TRUE   FALSE  \n",
       "6 Returning_Visitor FALSE   FALSE  "
      ]
     },
     "metadata": {},
     "output_type": "display_data"
    }
   ],
   "source": [
    "head(e_com)"
   ]
  },
  {
   "cell_type": "code",
   "execution_count": 78,
   "metadata": {},
   "outputs": [
    {
     "data": {
      "text/html": [
       "<table>\n",
       "<thead><tr><th></th><th scope=col>Administrative</th><th scope=col>Administrative_Duration</th><th scope=col>Informational</th><th scope=col>Informational_Duration</th><th scope=col>ProductRelated</th><th scope=col>ProductRelated_Duration</th><th scope=col>BounceRates</th><th scope=col>ExitRates</th><th scope=col>PageValues</th><th scope=col>SpecialDay</th><th scope=col>Month</th><th scope=col>OperatingSystems</th><th scope=col>Browser</th><th scope=col>Region</th><th scope=col>TrafficType</th><th scope=col>VisitorType</th><th scope=col>Weekend</th><th scope=col>Revenue</th></tr></thead>\n",
       "<tbody>\n",
       "\t<tr><th scope=row>12325</th><td>0                </td><td>  0              </td><td>1                </td><td>0                </td><td>16               </td><td> 503.000         </td><td>0.000000000      </td><td>0.03764706       </td><td> 0.00000         </td><td>0                </td><td>Nov              </td><td>2                </td><td>2                </td><td>1                </td><td> 1               </td><td>Returning_Visitor</td><td>FALSE            </td><td>FALSE            </td></tr>\n",
       "\t<tr><th scope=row>12326</th><td>3                </td><td>145              </td><td>0                </td><td>0                </td><td>53               </td><td>1783.792         </td><td>0.007142857      </td><td>0.02903061       </td><td>12.24172         </td><td>0                </td><td>Dec              </td><td>4                </td><td>6                </td><td>1                </td><td> 1               </td><td>Returning_Visitor</td><td> TRUE            </td><td>FALSE            </td></tr>\n",
       "\t<tr><th scope=row>12327</th><td>0                </td><td>  0              </td><td>0                </td><td>0                </td><td> 5               </td><td> 465.750         </td><td>0.000000000      </td><td>0.02133333       </td><td> 0.00000         </td><td>0                </td><td>Nov              </td><td>3                </td><td>2                </td><td>1                </td><td> 8               </td><td>Returning_Visitor</td><td> TRUE            </td><td>FALSE            </td></tr>\n",
       "\t<tr><th scope=row>12328</th><td>0                </td><td>  0              </td><td>0                </td><td>0                </td><td> 6               </td><td> 184.250         </td><td>0.083333333      </td><td>0.08666667       </td><td> 0.00000         </td><td>0                </td><td>Nov              </td><td>3                </td><td>2                </td><td>1                </td><td>13               </td><td>Returning_Visitor</td><td> TRUE            </td><td>FALSE            </td></tr>\n",
       "\t<tr><th scope=row>12329</th><td>4                </td><td> 75              </td><td>0                </td><td>0                </td><td>15               </td><td> 346.000         </td><td>0.000000000      </td><td>0.02105263       </td><td> 0.00000         </td><td>0                </td><td>Nov              </td><td>2                </td><td>2                </td><td>3                </td><td>11               </td><td>Returning_Visitor</td><td>FALSE            </td><td>FALSE            </td></tr>\n",
       "\t<tr><th scope=row>12330</th><td>0                </td><td>  0              </td><td>0                </td><td>0                </td><td> 3               </td><td>  21.250         </td><td>0.000000000      </td><td>0.06666667       </td><td> 0.00000         </td><td>0                </td><td>Nov              </td><td>3                </td><td>2                </td><td>1                </td><td> 2               </td><td>New_Visitor      </td><td> TRUE            </td><td>FALSE            </td></tr>\n",
       "</tbody>\n",
       "</table>\n"
      ],
      "text/latex": [
       "\\begin{tabular}{r|llllllllllllllllll}\n",
       "  & Administrative & Administrative\\_Duration & Informational & Informational\\_Duration & ProductRelated & ProductRelated\\_Duration & BounceRates & ExitRates & PageValues & SpecialDay & Month & OperatingSystems & Browser & Region & TrafficType & VisitorType & Weekend & Revenue\\\\\n",
       "\\hline\n",
       "\t12325 & 0                   &   0                 & 1                   & 0                   & 16                  &  503.000            & 0.000000000         & 0.03764706          &  0.00000            & 0                   & Nov                 & 2                   & 2                   & 1                   &  1                  & Returning\\_Visitor & FALSE               & FALSE              \\\\\n",
       "\t12326 & 3                   & 145                 & 0                   & 0                   & 53                  & 1783.792            & 0.007142857         & 0.02903061          & 12.24172            & 0                   & Dec                 & 4                   & 6                   & 1                   &  1                  & Returning\\_Visitor &  TRUE               & FALSE              \\\\\n",
       "\t12327 & 0                   &   0                 & 0                   & 0                   &  5                  &  465.750            & 0.000000000         & 0.02133333          &  0.00000            & 0                   & Nov                 & 3                   & 2                   & 1                   &  8                  & Returning\\_Visitor &  TRUE               & FALSE              \\\\\n",
       "\t12328 & 0                   &   0                 & 0                   & 0                   &  6                  &  184.250            & 0.083333333         & 0.08666667          &  0.00000            & 0                   & Nov                 & 3                   & 2                   & 1                   & 13                  & Returning\\_Visitor &  TRUE               & FALSE              \\\\\n",
       "\t12329 & 4                   &  75                 & 0                   & 0                   & 15                  &  346.000            & 0.000000000         & 0.02105263          &  0.00000            & 0                   & Nov                 & 2                   & 2                   & 3                   & 11                  & Returning\\_Visitor & FALSE               & FALSE              \\\\\n",
       "\t12330 & 0                   &   0                 & 0                   & 0                   &  3                  &   21.250            & 0.000000000         & 0.06666667          &  0.00000            & 0                   & Nov                 & 3                   & 2                   & 1                   &  2                  & New\\_Visitor       &  TRUE               & FALSE              \\\\\n",
       "\\end{tabular}\n"
      ],
      "text/markdown": [
       "\n",
       "| <!--/--> | Administrative | Administrative_Duration | Informational | Informational_Duration | ProductRelated | ProductRelated_Duration | BounceRates | ExitRates | PageValues | SpecialDay | Month | OperatingSystems | Browser | Region | TrafficType | VisitorType | Weekend | Revenue |\n",
       "|---|---|---|---|---|---|---|---|---|---|---|---|---|---|---|---|---|---|---|\n",
       "| 12325 | 0                 |   0               | 1                 | 0                 | 16                |  503.000          | 0.000000000       | 0.03764706        |  0.00000          | 0                 | Nov               | 2                 | 2                 | 1                 |  1                | Returning_Visitor | FALSE             | FALSE             |\n",
       "| 12326 | 3                 | 145               | 0                 | 0                 | 53                | 1783.792          | 0.007142857       | 0.02903061        | 12.24172          | 0                 | Dec               | 4                 | 6                 | 1                 |  1                | Returning_Visitor |  TRUE             | FALSE             |\n",
       "| 12327 | 0                 |   0               | 0                 | 0                 |  5                |  465.750          | 0.000000000       | 0.02133333        |  0.00000          | 0                 | Nov               | 3                 | 2                 | 1                 |  8                | Returning_Visitor |  TRUE             | FALSE             |\n",
       "| 12328 | 0                 |   0               | 0                 | 0                 |  6                |  184.250          | 0.083333333       | 0.08666667        |  0.00000          | 0                 | Nov               | 3                 | 2                 | 1                 | 13                | Returning_Visitor |  TRUE             | FALSE             |\n",
       "| 12329 | 4                 |  75               | 0                 | 0                 | 15                |  346.000          | 0.000000000       | 0.02105263        |  0.00000          | 0                 | Nov               | 2                 | 2                 | 3                 | 11                | Returning_Visitor | FALSE             | FALSE             |\n",
       "| 12330 | 0                 |   0               | 0                 | 0                 |  3                |   21.250          | 0.000000000       | 0.06666667        |  0.00000          | 0                 | Nov               | 3                 | 2                 | 1                 |  2                | New_Visitor       |  TRUE             | FALSE             |\n",
       "\n"
      ],
      "text/plain": [
       "      Administrative Administrative_Duration Informational\n",
       "12325 0                0                     1            \n",
       "12326 3              145                     0            \n",
       "12327 0                0                     0            \n",
       "12328 0                0                     0            \n",
       "12329 4               75                     0            \n",
       "12330 0                0                     0            \n",
       "      Informational_Duration ProductRelated ProductRelated_Duration BounceRates\n",
       "12325 0                      16              503.000                0.000000000\n",
       "12326 0                      53             1783.792                0.007142857\n",
       "12327 0                       5              465.750                0.000000000\n",
       "12328 0                       6              184.250                0.083333333\n",
       "12329 0                      15              346.000                0.000000000\n",
       "12330 0                       3               21.250                0.000000000\n",
       "      ExitRates  PageValues SpecialDay Month OperatingSystems Browser Region\n",
       "12325 0.03764706  0.00000   0          Nov   2                2       1     \n",
       "12326 0.02903061 12.24172   0          Dec   4                6       1     \n",
       "12327 0.02133333  0.00000   0          Nov   3                2       1     \n",
       "12328 0.08666667  0.00000   0          Nov   3                2       1     \n",
       "12329 0.02105263  0.00000   0          Nov   2                2       3     \n",
       "12330 0.06666667  0.00000   0          Nov   3                2       1     \n",
       "      TrafficType VisitorType       Weekend Revenue\n",
       "12325  1          Returning_Visitor FALSE   FALSE  \n",
       "12326  1          Returning_Visitor  TRUE   FALSE  \n",
       "12327  8          Returning_Visitor  TRUE   FALSE  \n",
       "12328 13          Returning_Visitor  TRUE   FALSE  \n",
       "12329 11          Returning_Visitor FALSE   FALSE  \n",
       "12330  2          New_Visitor        TRUE   FALSE  "
      ]
     },
     "metadata": {},
     "output_type": "display_data"
    }
   ],
   "source": [
    "tail(e_com)"
   ]
  },
  {
   "cell_type": "code",
   "execution_count": 79,
   "metadata": {},
   "outputs": [
    {
     "data": {
      "text/html": [
       "<ol class=list-inline>\n",
       "\t<li>12330</li>\n",
       "\t<li>18</li>\n",
       "</ol>\n"
      ],
      "text/latex": [
       "\\begin{enumerate*}\n",
       "\\item 12330\n",
       "\\item 18\n",
       "\\end{enumerate*}\n"
      ],
      "text/markdown": [
       "1. 12330\n",
       "2. 18\n",
       "\n",
       "\n"
      ],
      "text/plain": [
       "[1] 12330    18"
      ]
     },
     "metadata": {},
     "output_type": "display_data"
    }
   ],
   "source": [
    "dim(e_com)"
   ]
  },
  {
   "cell_type": "markdown",
   "metadata": {},
   "source": [
    "The dataset has 12330 rows and 18 columns"
   ]
  },
  {
   "cell_type": "code",
   "execution_count": 80,
   "metadata": {},
   "outputs": [
    {
     "name": "stdout",
     "output_type": "stream",
     "text": [
      "'data.frame':\t12330 obs. of  18 variables:\n",
      " $ Administrative         : int  0 0 0 0 0 0 0 1 0 0 ...\n",
      " $ Administrative_Duration: num  0 0 -1 0 0 0 -1 -1 0 0 ...\n",
      " $ Informational          : int  0 0 0 0 0 0 0 0 0 0 ...\n",
      " $ Informational_Duration : num  0 0 -1 0 0 0 -1 -1 0 0 ...\n",
      " $ ProductRelated         : int  1 2 1 2 10 19 1 1 2 3 ...\n",
      " $ ProductRelated_Duration: num  0 64 -1 2.67 627.5 ...\n",
      " $ BounceRates            : num  0.2 0 0.2 0.05 0.02 ...\n",
      " $ ExitRates              : num  0.2 0.1 0.2 0.14 0.05 ...\n",
      " $ PageValues             : num  0 0 0 0 0 0 0 0 0 0 ...\n",
      " $ SpecialDay             : num  0 0 0 0 0 0 0.4 0 0.8 0.4 ...\n",
      " $ Month                  : Factor w/ 10 levels \"Aug\",\"Dec\",\"Feb\",..: 3 3 3 3 3 3 3 3 3 3 ...\n",
      " $ OperatingSystems       : int  1 2 4 3 3 2 2 1 2 2 ...\n",
      " $ Browser                : int  1 2 1 2 3 2 4 2 2 4 ...\n",
      " $ Region                 : int  1 1 9 2 1 1 3 1 2 1 ...\n",
      " $ TrafficType            : int  1 2 3 4 4 3 3 5 3 2 ...\n",
      " $ VisitorType            : Factor w/ 3 levels \"New_Visitor\",..: 3 3 3 3 3 3 3 3 3 3 ...\n",
      " $ Weekend                : logi  FALSE FALSE FALSE FALSE TRUE FALSE ...\n",
      " $ Revenue                : logi  FALSE FALSE FALSE FALSE FALSE FALSE ...\n"
     ]
    }
   ],
   "source": [
    "# Checking whether each column has an appropriate datatype.\n",
    "#\n",
    "str(e_com)"
   ]
  },
  {
   "cell_type": "code",
   "execution_count": 81,
   "metadata": {},
   "outputs": [],
   "source": [
    "# Converting categorical variables from int to factors\n",
    "\n",
    "b = c(\"OperatingSystems\", \"Browser\", \"Region\", \"TrafficType\")\n",
    "for (i in b) {\n",
    "    e_com[, i] = as.factor(e_com[, i])\n",
    "}"
   ]
  },
  {
   "cell_type": "code",
   "execution_count": 82,
   "metadata": {
    "scrolled": true
   },
   "outputs": [
    {
     "name": "stdout",
     "output_type": "stream",
     "text": [
      "'data.frame':\t12330 obs. of  18 variables:\n",
      " $ Administrative         : int  0 0 0 0 0 0 0 1 0 0 ...\n",
      " $ Administrative_Duration: num  0 0 -1 0 0 0 -1 -1 0 0 ...\n",
      " $ Informational          : int  0 0 0 0 0 0 0 0 0 0 ...\n",
      " $ Informational_Duration : num  0 0 -1 0 0 0 -1 -1 0 0 ...\n",
      " $ ProductRelated         : int  1 2 1 2 10 19 1 1 2 3 ...\n",
      " $ ProductRelated_Duration: num  0 64 -1 2.67 627.5 ...\n",
      " $ BounceRates            : num  0.2 0 0.2 0.05 0.02 ...\n",
      " $ ExitRates              : num  0.2 0.1 0.2 0.14 0.05 ...\n",
      " $ PageValues             : num  0 0 0 0 0 0 0 0 0 0 ...\n",
      " $ SpecialDay             : num  0 0 0 0 0 0 0.4 0 0.8 0.4 ...\n",
      " $ Month                  : Factor w/ 10 levels \"Aug\",\"Dec\",\"Feb\",..: 3 3 3 3 3 3 3 3 3 3 ...\n",
      " $ OperatingSystems       : Factor w/ 8 levels \"1\",\"2\",\"3\",\"4\",..: 1 2 4 3 3 2 2 1 2 2 ...\n",
      " $ Browser                : Factor w/ 13 levels \"1\",\"2\",\"3\",\"4\",..: 1 2 1 2 3 2 4 2 2 4 ...\n",
      " $ Region                 : Factor w/ 9 levels \"1\",\"2\",\"3\",\"4\",..: 1 1 9 2 1 1 3 1 2 1 ...\n",
      " $ TrafficType            : Factor w/ 20 levels \"1\",\"2\",\"3\",\"4\",..: 1 2 3 4 4 3 3 5 3 2 ...\n",
      " $ VisitorType            : Factor w/ 3 levels \"New_Visitor\",..: 3 3 3 3 3 3 3 3 3 3 ...\n",
      " $ Weekend                : logi  FALSE FALSE FALSE FALSE TRUE FALSE ...\n",
      " $ Revenue                : logi  FALSE FALSE FALSE FALSE FALSE FALSE ...\n"
     ]
    }
   ],
   "source": [
    "# Confirming that all the variables have correct datatype.\n",
    "str(e_com)"
   ]
  },
  {
   "cell_type": "markdown",
   "metadata": {},
   "source": [
    "## Tidying the dataset"
   ]
  },
  {
   "cell_type": "code",
   "execution_count": 83,
   "metadata": {},
   "outputs": [
    {
     "data": {
      "text/html": [
       "<dl class=dl-horizontal>\n",
       "\t<dt>Administrative</dt>\n",
       "\t\t<dd>14</dd>\n",
       "\t<dt>Administrative_Duration</dt>\n",
       "\t\t<dd>14</dd>\n",
       "\t<dt>Informational</dt>\n",
       "\t\t<dd>14</dd>\n",
       "\t<dt>Informational_Duration</dt>\n",
       "\t\t<dd>14</dd>\n",
       "\t<dt>ProductRelated</dt>\n",
       "\t\t<dd>14</dd>\n",
       "\t<dt>ProductRelated_Duration</dt>\n",
       "\t\t<dd>14</dd>\n",
       "\t<dt>BounceRates</dt>\n",
       "\t\t<dd>14</dd>\n",
       "\t<dt>ExitRates</dt>\n",
       "\t\t<dd>14</dd>\n",
       "\t<dt>PageValues</dt>\n",
       "\t\t<dd>0</dd>\n",
       "\t<dt>SpecialDay</dt>\n",
       "\t\t<dd>0</dd>\n",
       "\t<dt>Month</dt>\n",
       "\t\t<dd>0</dd>\n",
       "\t<dt>OperatingSystems</dt>\n",
       "\t\t<dd>0</dd>\n",
       "\t<dt>Browser</dt>\n",
       "\t\t<dd>0</dd>\n",
       "\t<dt>Region</dt>\n",
       "\t\t<dd>0</dd>\n",
       "\t<dt>TrafficType</dt>\n",
       "\t\t<dd>0</dd>\n",
       "\t<dt>VisitorType</dt>\n",
       "\t\t<dd>0</dd>\n",
       "\t<dt>Weekend</dt>\n",
       "\t\t<dd>0</dd>\n",
       "\t<dt>Revenue</dt>\n",
       "\t\t<dd>0</dd>\n",
       "</dl>\n"
      ],
      "text/latex": [
       "\\begin{description*}\n",
       "\\item[Administrative] 14\n",
       "\\item[Administrative\\textbackslash{}\\_Duration] 14\n",
       "\\item[Informational] 14\n",
       "\\item[Informational\\textbackslash{}\\_Duration] 14\n",
       "\\item[ProductRelated] 14\n",
       "\\item[ProductRelated\\textbackslash{}\\_Duration] 14\n",
       "\\item[BounceRates] 14\n",
       "\\item[ExitRates] 14\n",
       "\\item[PageValues] 0\n",
       "\\item[SpecialDay] 0\n",
       "\\item[Month] 0\n",
       "\\item[OperatingSystems] 0\n",
       "\\item[Browser] 0\n",
       "\\item[Region] 0\n",
       "\\item[TrafficType] 0\n",
       "\\item[VisitorType] 0\n",
       "\\item[Weekend] 0\n",
       "\\item[Revenue] 0\n",
       "\\end{description*}\n"
      ],
      "text/markdown": [
       "Administrative\n",
       ":   14Administrative_Duration\n",
       ":   14Informational\n",
       ":   14Informational_Duration\n",
       ":   14ProductRelated\n",
       ":   14ProductRelated_Duration\n",
       ":   14BounceRates\n",
       ":   14ExitRates\n",
       ":   14PageValues\n",
       ":   0SpecialDay\n",
       ":   0Month\n",
       ":   0OperatingSystems\n",
       ":   0Browser\n",
       ":   0Region\n",
       ":   0TrafficType\n",
       ":   0VisitorType\n",
       ":   0Weekend\n",
       ":   0Revenue\n",
       ":   0\n",
       "\n"
      ],
      "text/plain": [
       "         Administrative Administrative_Duration           Informational \n",
       "                     14                      14                      14 \n",
       " Informational_Duration          ProductRelated ProductRelated_Duration \n",
       "                     14                      14                      14 \n",
       "            BounceRates               ExitRates              PageValues \n",
       "                     14                      14                       0 \n",
       "             SpecialDay                   Month        OperatingSystems \n",
       "                      0                       0                       0 \n",
       "                Browser                  Region             TrafficType \n",
       "                      0                       0                       0 \n",
       "            VisitorType                 Weekend                 Revenue \n",
       "                      0                       0                       0 "
      ]
     },
     "metadata": {},
     "output_type": "display_data"
    }
   ],
   "source": [
    "# Checking for missng values.\n",
    "\n",
    "colSums(is.na(e_com))"
   ]
  },
  {
   "cell_type": "markdown",
   "metadata": {},
   "source": [
    "The first 8 columns have 14 missing values. Since the total dataset has 12330 rows and 18 columns, losing 14 records will not significantly affect the data. "
   ]
  },
  {
   "cell_type": "code",
   "execution_count": 84,
   "metadata": {},
   "outputs": [],
   "source": [
    "# Dropping the missing values\n",
    "e_com = na.omit(e_com)"
   ]
  },
  {
   "cell_type": "code",
   "execution_count": 85,
   "metadata": {},
   "outputs": [
    {
     "data": {
      "text/html": [
       "<dl class=dl-horizontal>\n",
       "\t<dt>Administrative</dt>\n",
       "\t\t<dd>0</dd>\n",
       "\t<dt>Administrative_Duration</dt>\n",
       "\t\t<dd>0</dd>\n",
       "\t<dt>Informational</dt>\n",
       "\t\t<dd>0</dd>\n",
       "\t<dt>Informational_Duration</dt>\n",
       "\t\t<dd>0</dd>\n",
       "\t<dt>ProductRelated</dt>\n",
       "\t\t<dd>0</dd>\n",
       "\t<dt>ProductRelated_Duration</dt>\n",
       "\t\t<dd>0</dd>\n",
       "\t<dt>BounceRates</dt>\n",
       "\t\t<dd>0</dd>\n",
       "\t<dt>ExitRates</dt>\n",
       "\t\t<dd>0</dd>\n",
       "\t<dt>PageValues</dt>\n",
       "\t\t<dd>0</dd>\n",
       "\t<dt>SpecialDay</dt>\n",
       "\t\t<dd>0</dd>\n",
       "\t<dt>Month</dt>\n",
       "\t\t<dd>0</dd>\n",
       "\t<dt>OperatingSystems</dt>\n",
       "\t\t<dd>0</dd>\n",
       "\t<dt>Browser</dt>\n",
       "\t\t<dd>0</dd>\n",
       "\t<dt>Region</dt>\n",
       "\t\t<dd>0</dd>\n",
       "\t<dt>TrafficType</dt>\n",
       "\t\t<dd>0</dd>\n",
       "\t<dt>VisitorType</dt>\n",
       "\t\t<dd>0</dd>\n",
       "\t<dt>Weekend</dt>\n",
       "\t\t<dd>0</dd>\n",
       "\t<dt>Revenue</dt>\n",
       "\t\t<dd>0</dd>\n",
       "</dl>\n"
      ],
      "text/latex": [
       "\\begin{description*}\n",
       "\\item[Administrative] 0\n",
       "\\item[Administrative\\textbackslash{}\\_Duration] 0\n",
       "\\item[Informational] 0\n",
       "\\item[Informational\\textbackslash{}\\_Duration] 0\n",
       "\\item[ProductRelated] 0\n",
       "\\item[ProductRelated\\textbackslash{}\\_Duration] 0\n",
       "\\item[BounceRates] 0\n",
       "\\item[ExitRates] 0\n",
       "\\item[PageValues] 0\n",
       "\\item[SpecialDay] 0\n",
       "\\item[Month] 0\n",
       "\\item[OperatingSystems] 0\n",
       "\\item[Browser] 0\n",
       "\\item[Region] 0\n",
       "\\item[TrafficType] 0\n",
       "\\item[VisitorType] 0\n",
       "\\item[Weekend] 0\n",
       "\\item[Revenue] 0\n",
       "\\end{description*}\n"
      ],
      "text/markdown": [
       "Administrative\n",
       ":   0Administrative_Duration\n",
       ":   0Informational\n",
       ":   0Informational_Duration\n",
       ":   0ProductRelated\n",
       ":   0ProductRelated_Duration\n",
       ":   0BounceRates\n",
       ":   0ExitRates\n",
       ":   0PageValues\n",
       ":   0SpecialDay\n",
       ":   0Month\n",
       ":   0OperatingSystems\n",
       ":   0Browser\n",
       ":   0Region\n",
       ":   0TrafficType\n",
       ":   0VisitorType\n",
       ":   0Weekend\n",
       ":   0Revenue\n",
       ":   0\n",
       "\n"
      ],
      "text/plain": [
       "         Administrative Administrative_Duration           Informational \n",
       "                      0                       0                       0 \n",
       " Informational_Duration          ProductRelated ProductRelated_Duration \n",
       "                      0                       0                       0 \n",
       "            BounceRates               ExitRates              PageValues \n",
       "                      0                       0                       0 \n",
       "             SpecialDay                   Month        OperatingSystems \n",
       "                      0                       0                       0 \n",
       "                Browser                  Region             TrafficType \n",
       "                      0                       0                       0 \n",
       "            VisitorType                 Weekend                 Revenue \n",
       "                      0                       0                       0 "
      ]
     },
     "metadata": {},
     "output_type": "display_data"
    }
   ],
   "source": [
    "# Checking if missing values are dropped.\n",
    "colSums(is.na(e_com))"
   ]
  },
  {
   "cell_type": "markdown",
   "metadata": {},
   "source": [
    "All the missing values have been dropped."
   ]
  },
  {
   "cell_type": "code",
   "execution_count": 86,
   "metadata": {},
   "outputs": [
    {
     "data": {
      "text/html": [
       "<ol class=list-inline>\n",
       "\t<li>117</li>\n",
       "\t<li>18</li>\n",
       "</ol>\n"
      ],
      "text/latex": [
       "\\begin{enumerate*}\n",
       "\\item 117\n",
       "\\item 18\n",
       "\\end{enumerate*}\n"
      ],
      "text/markdown": [
       "1. 117\n",
       "2. 18\n",
       "\n",
       "\n"
      ],
      "text/plain": [
       "[1] 117  18"
      ]
     },
     "metadata": {},
     "output_type": "display_data"
    }
   ],
   "source": [
    "# Checking for dupliccate values\n",
    "duplicated_rows <- e_com[duplicated(e_com),]\n",
    "dim(duplicated_rows)"
   ]
  },
  {
   "cell_type": "markdown",
   "metadata": {},
   "source": [
    "The dataset has 117 duplicated values. We will drop the duplicates and use the unique items"
   ]
  },
  {
   "cell_type": "code",
   "execution_count": 87,
   "metadata": {},
   "outputs": [],
   "source": [
    "e_com = e_com[!duplicated(e_com), ]"
   ]
  },
  {
   "cell_type": "code",
   "execution_count": 88,
   "metadata": {},
   "outputs": [
    {
     "data": {
      "text/html": [
       "<ol class=list-inline>\n",
       "\t<li>12199</li>\n",
       "\t<li>18</li>\n",
       "</ol>\n"
      ],
      "text/latex": [
       "\\begin{enumerate*}\n",
       "\\item 12199\n",
       "\\item 18\n",
       "\\end{enumerate*}\n"
      ],
      "text/markdown": [
       "1. 12199\n",
       "2. 18\n",
       "\n",
       "\n"
      ],
      "text/plain": [
       "[1] 12199    18"
      ]
     },
     "metadata": {},
     "output_type": "display_data"
    }
   ],
   "source": [
    "dim(e_com)"
   ]
  },
  {
   "cell_type": "markdown",
   "metadata": {},
   "source": [
    "After dropping our duplicates, we have 12199 records left to analyse"
   ]
  },
  {
   "cell_type": "code",
   "execution_count": 89,
   "metadata": {},
   "outputs": [
    {
     "data": {
      "image/png": "[encoded data removed]",
      "text/plain": [
       "plot without title"
      ]
     },
     "metadata": {},
     "output_type": "display_data"
    }
   ],
   "source": [
    "# Checking outliers in the numerical variables.\n",
    "# subsetting data into the numerical columns.\n",
    "#\n",
    "w = e_com[, c(1,2,3,4,5,6,7,8,9,10)]\n",
    "\n",
    "# plotting the boxplots\n",
    "boxplot(w, las=3)"
   ]
  },
  {
   "cell_type": "markdown",
   "metadata": {},
   "source": [
    "The data has ouliers. The variables with most outliers include product_related duration, administrative duration and informational duration. "
   ]
  },
  {
   "cell_type": "code",
   "execution_count": 90,
   "metadata": {},
   "outputs": [
    {
     "data": {
      "image/png": "[encoded data removed]",
      "text/plain": [
       "Plot with title \"Administrative pages visited\""
      ]
     },
     "metadata": {},
     "output_type": "display_data"
    }
   ],
   "source": [
    "# individual boxplots.\n",
    "# Boxpot for Administrative variable\n",
    "\n",
    "a = boxplot(e_com$Administrative, col = \"green\", main = \"Administrative pages visited\", ylab = \"Administrative pages visited dist\")"
   ]
  },
  {
   "cell_type": "code",
   "execution_count": 91,
   "metadata": {},
   "outputs": [
    {
     "data": {
      "image/png": "[encoded data removed]",
      "text/plain": [
       "plot without title"
      ]
     },
     "metadata": {},
     "output_type": "display_data"
    }
   ],
   "source": [
    "#Dropping the outliers in Adminstrative variable.\n",
    "# we create a new dataframe e_com_new so that we do not loose original information\n",
    "\n",
    "outliers = a$out\n",
    "e_com_new = e_com\n",
    "e_com_new = e_com_new[-which(e_com_new$Administrative %in% outliers),]\n",
    "boxplot(e_com_new$Administrative)"
   ]
  },
  {
   "cell_type": "code",
   "execution_count": 92,
   "metadata": {},
   "outputs": [
    {
     "data": {
      "image/png": "[encoded data removed]",
      "text/plain": [
       "Plot with title \"Administrative pages duration\""
      ]
     },
     "metadata": {},
     "output_type": "display_data"
    }
   ],
   "source": [
    "# Boxpot for Administrative_Duration variable\n",
    "#Dropping the outliers in Administrative_Duration variable.\n",
    "b = boxplot(e_com$Administrative_Duration, col = \"yellow\", main = \"Administrative pages duration\", ylab = \"Administrative pages duration dist\")"
   ]
  },
  {
   "cell_type": "code",
   "execution_count": 93,
   "metadata": {},
   "outputs": [
    {
     "data": {
      "image/png": "[encoded data removed]",
      "text/plain": [
       "plot without title"
      ]
     },
     "metadata": {},
     "output_type": "display_data"
    }
   ],
   "source": [
    "#Dropping the outliers in Administrative_Duration variable.outliers = b$out\n",
    "\n",
    "e_com_new = e_com_new[-which(e_com_new$Administrative_Duration %in% outliers),]\n",
    "boxplot(e_com_new$Administrative_Duration)"
   ]
  },
  {
   "cell_type": "code",
   "execution_count": 94,
   "metadata": {},
   "outputs": [
    {
     "data": {
      "image/png": "[encoded data removed]",
      "text/plain": [
       "Plot with title \"Informational pages visited\""
      ]
     },
     "metadata": {},
     "output_type": "display_data"
    }
   ],
   "source": [
    "# Boxplot for Informational variable\n",
    "\n",
    "c = boxplot(e_com$Informational, col = \"gold\", main = \"Informational pages visited\", ylab = \"Informationa pages dist\")"
   ]
  },
  {
   "cell_type": "code",
   "execution_count": 95,
   "metadata": {},
   "outputs": [
    {
     "data": {
      "image/png": "[encoded data removed]",
      "text/plain": [
       "plot without title"
      ]
     },
     "metadata": {},
     "output_type": "display_data"
    }
   ],
   "source": [
    "# Dropping outliers in the informational variable\n",
    "\n",
    "outliers = c$out\n",
    "e_com_new = e_com_new[-which(e_com_new$Informational %in% outliers),]\n",
    "boxplot(e_com_new$Informational)"
   ]
  },
  {
   "cell_type": "code",
   "execution_count": 96,
   "metadata": {},
   "outputs": [
    {
     "data": {
      "image/png": "[encoded data removed]",
      "text/plain": [
       "Plot with title \"Informational_Duration\""
      ]
     },
     "metadata": {},
     "output_type": "display_data"
    }
   ],
   "source": [
    "# Boxplot for informational duration\n",
    "\n",
    "d = boxplot(e_com$Informational_Duration, col = \"pink\", main = \"Informational_Duration\", ylab = \"Informational duration dist\")"
   ]
  },
  {
   "cell_type": "code",
   "execution_count": 97,
   "metadata": {},
   "outputs": [
    {
     "data": {
      "image/png": "[encoded data removed]",
      "text/plain": [
       "plot without title"
      ]
     },
     "metadata": {},
     "output_type": "display_data"
    }
   ],
   "source": [
    "# Droping outliers in Informational_duration variable\n",
    "\n",
    "outliers = d$out\n",
    "e_com_new = e_com_new[-which(e_com_new$Informational_Duration %in% outliers),]\n",
    "boxplot(e_com_new$Informational_Duration)"
   ]
  },
  {
   "cell_type": "code",
   "execution_count": 98,
   "metadata": {},
   "outputs": [
    {
     "data": {
      "image/png": "[encoded data removed]",
      "text/plain": [
       "Plot with title \"ProductRelated pages visited\""
      ]
     },
     "metadata": {},
     "output_type": "display_data"
    }
   ],
   "source": [
    "# Boxplot for product related variable\n",
    "\n",
    "e = boxplot(e_com$ProductRelated, col = \"red\", main = \"ProductRelated pages visited\", ylab = \"ProductRelated distribution\")"
   ]
  },
  {
   "cell_type": "code",
   "execution_count": 99,
   "metadata": {},
   "outputs": [
    {
     "data": {
      "image/png": "[encoded data removed]",
      "text/plain": [
       "plot without title"
      ]
     },
     "metadata": {},
     "output_type": "display_data"
    }
   ],
   "source": [
    "# dropping outliers in the product related variable\n",
    "\n",
    "outliers = e$out\n",
    "e_com_new = e_com_new[-which(e_com_new$ProductRelated %in% outliers),]\n",
    "boxplot(e_com_new$ProductRelated)"
   ]
  },
  {
   "cell_type": "code",
   "execution_count": 100,
   "metadata": {},
   "outputs": [
    {
     "data": {
      "image/png": "[encoded data removed]",
      "text/plain": [
       "Plot with title \"ProductRelated_Duration\""
      ]
     },
     "metadata": {},
     "output_type": "display_data"
    }
   ],
   "source": [
    "# Boxplot for product related_duration\n",
    "\n",
    "f = boxplot(e_com$ProductRelated_Duration, col = \"green\", main = \"ProductRelated_Duration\", ylab = \"ProductRelated_Duration distribution\")"
   ]
  },
  {
   "cell_type": "code",
   "execution_count": 101,
   "metadata": {},
   "outputs": [
    {
     "data": {
      "image/png": "[encoded data removed]",
      "text/plain": [
       "plot without title"
      ]
     },
     "metadata": {},
     "output_type": "display_data"
    }
   ],
   "source": [
    "# Dropping outliers in the product related_duration variable\n",
    "\n",
    "outliers = f$out\n",
    "e_com_new = e_com_new[-which(e_com_new$ProductRelated_Duration %in% outliers),]\n",
    "boxplot(e_com_new$ProductRelated_Duration)"
   ]
  },
  {
   "cell_type": "code",
   "execution_count": 102,
   "metadata": {},
   "outputs": [
    {
     "data": {
      "image/png": "[encoded data removed]",
      "text/plain": [
       "Plot with title \"BounceRates\""
      ]
     },
     "metadata": {},
     "output_type": "display_data"
    }
   ],
   "source": [
    "# Boxplot for bounce rates\n",
    "\n",
    "g = boxplot(e_com$BounceRates, col = \"blue\", main = \"BounceRates\", ylab = \"BounceRates distribution\")"
   ]
  },
  {
   "cell_type": "code",
   "execution_count": 103,
   "metadata": {},
   "outputs": [
    {
     "data": {
      "image/png": "[encoded data removed]",
      "text/plain": [
       "plot without title"
      ]
     },
     "metadata": {},
     "output_type": "display_data"
    }
   ],
   "source": [
    "# Dropping outliers in the variable bounce rates\n",
    "\n",
    "outliers = g$out\n",
    "e_com_new = e_com_new[-which(e_com_new$BounceRates %in% outliers),]\n",
    "boxplot(e_com_new$BounceRates)"
   ]
  },
  {
   "cell_type": "code",
   "execution_count": 104,
   "metadata": {},
   "outputs": [
    {
     "data": {
      "image/png": "[encoded data removed]",
      "text/plain": [
       "Plot with title \"ExitRates\""
      ]
     },
     "metadata": {},
     "output_type": "display_data"
    }
   ],
   "source": [
    "# Boxplot for exit rates\n",
    "\n",
    "h = boxplot(e_com$ExitRates, col = \"gold\", main = \"ExitRates\", ylab = \"ExitRates distribution\")"
   ]
  },
  {
   "cell_type": "code",
   "execution_count": 105,
   "metadata": {},
   "outputs": [
    {
     "data": {
      "image/png": "[encoded data removed]",
      "text/plain": [
       "plot without title"
      ]
     },
     "metadata": {},
     "output_type": "display_data"
    }
   ],
   "source": [
    "# Dropping outliers in the variable in the exit rates variable\n",
    "\n",
    "outliers = h$out\n",
    "e_com_new = e_com_new[-which(e_com_new$ExitRates %in% outliers),]\n",
    "boxplot(e_com_new$ExitRates)"
   ]
  },
  {
   "cell_type": "code",
   "execution_count": 106,
   "metadata": {},
   "outputs": [
    {
     "data": {
      "image/png": "[encoded data removed]",
      "text/plain": [
       "Plot with title \"PageValues\""
      ]
     },
     "metadata": {},
     "output_type": "display_data"
    }
   ],
   "source": [
    "# Boxplot for page value\n",
    "\n",
    "i = boxplot(e_com$PageValues, col = \"red\", main = \"PageValues\", ylab = \"PageValues distribution\")"
   ]
  },
  {
   "cell_type": "code",
   "execution_count": 107,
   "metadata": {},
   "outputs": [
    {
     "data": {
      "image/png": "[encoded data removed]",
      "text/plain": [
       "plot without title"
      ]
     },
     "metadata": {},
     "output_type": "display_data"
    }
   ],
   "source": [
    "# Dropping outliers in the pagevalues variable\n",
    "\n",
    "outliers = i$out\n",
    "e_com_new = e_com_new[-which(e_com_new$PageValues %in% outliers),]\n",
    "boxplot(e_com_new$PageValues)"
   ]
  },
  {
   "cell_type": "code",
   "execution_count": 108,
   "metadata": {},
   "outputs": [
    {
     "data": {
      "image/png": "[encoded data removed]",
      "text/plain": [
       "Plot with title \"SpecialDay\""
      ]
     },
     "metadata": {},
     "output_type": "display_data"
    }
   ],
   "source": [
    "# Boxplot for special day variable\n",
    "\n",
    "j = boxplot(e_com$SpecialDay, col = \"red\", main = \"SpecialDay\", ylab = \"SpecialDay distribution\")"
   ]
  },
  {
   "cell_type": "code",
   "execution_count": 109,
   "metadata": {},
   "outputs": [
    {
     "data": {
      "image/png": "[encoded data removed]",
      "text/plain": [
       "plot without title"
      ]
     },
     "metadata": {},
     "output_type": "display_data"
    }
   ],
   "source": [
    "# Dropping outliers in the special day column.\n",
    "\n",
    "outliers = j$out\n",
    "e_com_new = e_com_new[-which(e_com_new$SpecialDay %in% outliers),]\n",
    "boxplot(e_com_new$SpecialDay)"
   ]
  },
  {
   "cell_type": "code",
   "execution_count": 110,
   "metadata": {},
   "outputs": [
    {
     "data": {
      "text/html": [
       "<ol class=list-inline>\n",
       "\t<li>5087</li>\n",
       "\t<li>18</li>\n",
       "</ol>\n"
      ],
      "text/latex": [
       "\\begin{enumerate*}\n",
       "\\item 5087\n",
       "\\item 18\n",
       "\\end{enumerate*}\n"
      ],
      "text/markdown": [
       "1. 5087\n",
       "2. 18\n",
       "\n",
       "\n"
      ],
      "text/plain": [
       "[1] 5087   18"
      ]
     },
     "metadata": {},
     "output_type": "display_data"
    }
   ],
   "source": [
    "# Checking dimension of the remaining data after dropping the outliers\n",
    "dim(e_com_new)"
   ]
  },
  {
   "cell_type": "markdown",
   "metadata": {},
   "source": [
    "We have lost so much data after dropping outliers, which makes it an unwise decisions to drop them. \n",
    "I will proceed with EDA with the original data set, one that has the outliers"
   ]
  },
  {
   "cell_type": "markdown",
   "metadata": {},
   "source": [
    "# EXPLORATORY DATA ANALYSIS"
   ]
  },
  {
   "cell_type": "markdown",
   "metadata": {},
   "source": [
    "## Univariate analysis"
   ]
  },
  {
   "cell_type": "code",
   "execution_count": 111,
   "metadata": {},
   "outputs": [
    {
     "data": {
      "image/png": "[encoded data removed]",
      "text/plain": [
       "plot without title"
      ]
     },
     "metadata": {},
     "output_type": "display_data"
    }
   ],
   "source": [
    "# Installing the data explorer package for univariate analysis\n",
    "\n",
    "#install.packages('DataExplorer')\n",
    "library(DataExplorer)\n",
    "\n",
    "# plotting numerical variables\n",
    "\n",
    "plot_histogram(e_com)\n"
   ]
  },
  {
   "cell_type": "markdown",
   "metadata": {},
   "source": [
    "The above histograms show the distribution of all the numerical variables. \n",
    "All the numerical variables are skewed to the right.\n",
    "This shows that the numerical varibles mostly have low values.\n",
    "From the distribution above, we can conclude that not many people visit the pages on this e_comerce site.\n",
    "The product related page is visited most compared to all the other pages.\n"
   ]
  },
  {
   "cell_type": "code",
   "execution_count": 112,
   "metadata": {},
   "outputs": [
    {
     "data": {
      "image/png": "[encoded data removed]",
      "text/plain": [
       "plot without title"
      ]
     },
     "metadata": {},
     "output_type": "display_data"
    }
   ],
   "source": [
    "# Plotting the categorical variables.\n",
    "\n",
    "plot_bar(e_com)"
   ]
  },
  {
   "cell_type": "markdown",
   "metadata": {},
   "source": [
    "The above bar graphs show the distribution of the categorical variables.\n",
    "\n",
    "- month - most data was collected in the month of may and least data in february\n",
    "- Operating System - The unidentified operating system 2 is used most. OS 8 is least used\n",
    "- Browser - The unidentified Browser 2 is used most. Browser 7 is least used\n",
    "- Region - Most of the e_com site visitors are from region 1, and least visitors in region 5\n",
    "- Traffic type 2 - traffic type 2 is mostly experienced.\n",
    "- Visitor type - most of the site visitors are return visitors\n",
    "- weekend - most people are on the site on weekdays, compare to weekends.\n",
    "- Revenue - revenue is mostly false. This variable identifies whether a site visitor made a purchase\n",
    "- Most people visiting the site are not naking purchases."
   ]
  },
  {
   "cell_type": "markdown",
   "metadata": {},
   "source": [
    "## Bivariate analysis"
   ]
  },
  {
   "cell_type": "code",
   "execution_count": 113,
   "metadata": {},
   "outputs": [
    {
     "data": {
      "text/html": [
       "<table>\n",
       "<thead><tr><th scope=col>Administrative</th><th scope=col>Administrative_Duration</th><th scope=col>Informational</th><th scope=col>Informational_Duration</th><th scope=col>ProductRelated</th><th scope=col>ProductRelated_Duration</th><th scope=col>BounceRates</th><th scope=col>ExitRates</th><th scope=col>PageValues</th><th scope=col>SpecialDay</th><th scope=col>Month</th><th scope=col>OperatingSystems</th><th scope=col>Browser</th><th scope=col>Region</th><th scope=col>TrafficType</th><th scope=col>VisitorType</th><th scope=col>Weekend</th><th scope=col>Revenue</th></tr></thead>\n",
       "<tbody>\n",
       "\t<tr><td>0                </td><td> 0               </td><td>0                </td><td> 0               </td><td> 1               </td><td>  0.000000       </td><td>0.20000000       </td><td>0.2000000        </td><td>0                </td><td>0                </td><td>Feb              </td><td>1                </td><td>1                </td><td>1                </td><td>1                </td><td>Returning_Visitor</td><td>FALSE            </td><td>FALSE            </td></tr>\n",
       "\t<tr><td>0                </td><td> 0               </td><td>0                </td><td> 0               </td><td> 2               </td><td> 64.000000       </td><td>0.00000000       </td><td>0.1000000        </td><td>0                </td><td>0                </td><td>Feb              </td><td>2                </td><td>2                </td><td>1                </td><td>2                </td><td>Returning_Visitor</td><td>FALSE            </td><td>FALSE            </td></tr>\n",
       "\t<tr><td>0                </td><td>-1               </td><td>0                </td><td>-1               </td><td> 1               </td><td> -1.000000       </td><td>0.20000000       </td><td>0.2000000        </td><td>0                </td><td>0                </td><td>Feb              </td><td>4                </td><td>1                </td><td>9                </td><td>3                </td><td>Returning_Visitor</td><td>FALSE            </td><td>FALSE            </td></tr>\n",
       "\t<tr><td>0                </td><td> 0               </td><td>0                </td><td> 0               </td><td> 2               </td><td>  2.666667       </td><td>0.05000000       </td><td>0.1400000        </td><td>0                </td><td>0                </td><td>Feb              </td><td>3                </td><td>2                </td><td>2                </td><td>4                </td><td>Returning_Visitor</td><td>FALSE            </td><td>FALSE            </td></tr>\n",
       "\t<tr><td>0                </td><td> 0               </td><td>0                </td><td> 0               </td><td>10               </td><td>627.500000       </td><td>0.02000000       </td><td>0.0500000        </td><td>0                </td><td>0                </td><td>Feb              </td><td>3                </td><td>3                </td><td>1                </td><td>4                </td><td>Returning_Visitor</td><td> TRUE            </td><td>FALSE            </td></tr>\n",
       "\t<tr><td>0                </td><td> 0               </td><td>0                </td><td> 0               </td><td>19               </td><td>154.216667       </td><td>0.01578947       </td><td>0.0245614        </td><td>0                </td><td>0                </td><td>Feb              </td><td>2                </td><td>2                </td><td>1                </td><td>3                </td><td>Returning_Visitor</td><td>FALSE            </td><td>FALSE            </td></tr>\n",
       "</tbody>\n",
       "</table>\n"
      ],
      "text/latex": [
       "\\begin{tabular}{r|llllllllllllllllll}\n",
       " Administrative & Administrative\\_Duration & Informational & Informational\\_Duration & ProductRelated & ProductRelated\\_Duration & BounceRates & ExitRates & PageValues & SpecialDay & Month & OperatingSystems & Browser & Region & TrafficType & VisitorType & Weekend & Revenue\\\\\n",
       "\\hline\n",
       "\t 0                   &  0                  & 0                   &  0                  &  1                  &   0.000000          & 0.20000000          & 0.2000000           & 0                   & 0                   & Feb                 & 1                   & 1                   & 1                   & 1                   & Returning\\_Visitor & FALSE               & FALSE              \\\\\n",
       "\t 0                   &  0                  & 0                   &  0                  &  2                  &  64.000000          & 0.00000000          & 0.1000000           & 0                   & 0                   & Feb                 & 2                   & 2                   & 1                   & 2                   & Returning\\_Visitor & FALSE               & FALSE              \\\\\n",
       "\t 0                   & -1                  & 0                   & -1                  &  1                  &  -1.000000          & 0.20000000          & 0.2000000           & 0                   & 0                   & Feb                 & 4                   & 1                   & 9                   & 3                   & Returning\\_Visitor & FALSE               & FALSE              \\\\\n",
       "\t 0                   &  0                  & 0                   &  0                  &  2                  &   2.666667          & 0.05000000          & 0.1400000           & 0                   & 0                   & Feb                 & 3                   & 2                   & 2                   & 4                   & Returning\\_Visitor & FALSE               & FALSE              \\\\\n",
       "\t 0                   &  0                  & 0                   &  0                  & 10                  & 627.500000          & 0.02000000          & 0.0500000           & 0                   & 0                   & Feb                 & 3                   & 3                   & 1                   & 4                   & Returning\\_Visitor &  TRUE               & FALSE              \\\\\n",
       "\t 0                   &  0                  & 0                   &  0                  & 19                  & 154.216667          & 0.01578947          & 0.0245614           & 0                   & 0                   & Feb                 & 2                   & 2                   & 1                   & 3                   & Returning\\_Visitor & FALSE               & FALSE              \\\\\n",
       "\\end{tabular}\n"
      ],
      "text/markdown": [
       "\n",
       "| Administrative | Administrative_Duration | Informational | Informational_Duration | ProductRelated | ProductRelated_Duration | BounceRates | ExitRates | PageValues | SpecialDay | Month | OperatingSystems | Browser | Region | TrafficType | VisitorType | Weekend | Revenue |\n",
       "|---|---|---|---|---|---|---|---|---|---|---|---|---|---|---|---|---|---|\n",
       "| 0                 |  0                | 0                 |  0                |  1                |   0.000000        | 0.20000000        | 0.2000000         | 0                 | 0                 | Feb               | 1                 | 1                 | 1                 | 1                 | Returning_Visitor | FALSE             | FALSE             |\n",
       "| 0                 |  0                | 0                 |  0                |  2                |  64.000000        | 0.00000000        | 0.1000000         | 0                 | 0                 | Feb               | 2                 | 2                 | 1                 | 2                 | Returning_Visitor | FALSE             | FALSE             |\n",
       "| 0                 | -1                | 0                 | -1                |  1                |  -1.000000        | 0.20000000        | 0.2000000         | 0                 | 0                 | Feb               | 4                 | 1                 | 9                 | 3                 | Returning_Visitor | FALSE             | FALSE             |\n",
       "| 0                 |  0                | 0                 |  0                |  2                |   2.666667        | 0.05000000        | 0.1400000         | 0                 | 0                 | Feb               | 3                 | 2                 | 2                 | 4                 | Returning_Visitor | FALSE             | FALSE             |\n",
       "| 0                 |  0                | 0                 |  0                | 10                | 627.500000        | 0.02000000        | 0.0500000         | 0                 | 0                 | Feb               | 3                 | 3                 | 1                 | 4                 | Returning_Visitor |  TRUE             | FALSE             |\n",
       "| 0                 |  0                | 0                 |  0                | 19                | 154.216667        | 0.01578947        | 0.0245614         | 0                 | 0                 | Feb               | 2                 | 2                 | 1                 | 3                 | Returning_Visitor | FALSE             | FALSE             |\n",
       "\n"
      ],
      "text/plain": [
       "  Administrative Administrative_Duration Informational Informational_Duration\n",
       "1 0               0                      0              0                    \n",
       "2 0               0                      0              0                    \n",
       "3 0              -1                      0             -1                    \n",
       "4 0               0                      0              0                    \n",
       "5 0               0                      0              0                    \n",
       "6 0               0                      0              0                    \n",
       "  ProductRelated ProductRelated_Duration BounceRates ExitRates PageValues\n",
       "1  1               0.000000              0.20000000  0.2000000 0         \n",
       "2  2              64.000000              0.00000000  0.1000000 0         \n",
       "3  1              -1.000000              0.20000000  0.2000000 0         \n",
       "4  2               2.666667              0.05000000  0.1400000 0         \n",
       "5 10             627.500000              0.02000000  0.0500000 0         \n",
       "6 19             154.216667              0.01578947  0.0245614 0         \n",
       "  SpecialDay Month OperatingSystems Browser Region TrafficType\n",
       "1 0          Feb   1                1       1      1          \n",
       "2 0          Feb   2                2       1      2          \n",
       "3 0          Feb   4                1       9      3          \n",
       "4 0          Feb   3                2       2      4          \n",
       "5 0          Feb   3                3       1      4          \n",
       "6 0          Feb   2                2       1      3          \n",
       "  VisitorType       Weekend Revenue\n",
       "1 Returning_Visitor FALSE   FALSE  \n",
       "2 Returning_Visitor FALSE   FALSE  \n",
       "3 Returning_Visitor FALSE   FALSE  \n",
       "4 Returning_Visitor FALSE   FALSE  \n",
       "5 Returning_Visitor  TRUE   FALSE  \n",
       "6 Returning_Visitor FALSE   FALSE  "
      ]
     },
     "metadata": {},
     "output_type": "display_data"
    }
   ],
   "source": [
    "#data preview\n",
    "head(e_com)"
   ]
  },
  {
   "cell_type": "code",
   "execution_count": 114,
   "metadata": {},
   "outputs": [
    {
     "data": {
      "image/png": "[encoded data removed]",
      "text/plain": [
       "plot without title"
      ]
     },
     "metadata": {},
     "output_type": "display_data"
    }
   ],
   "source": [
    "# Importing library\n",
    "library(ggplot2)\n",
    "\n",
    "ggplot(e_com, aes(ProductRelated, colour = Revenue)) +\n",
    "geom_freqpoly(binwidth = 1) + labs(title=\"Administrative Distribution by Revenue\")\n",
    " "
   ]
  },
  {
   "cell_type": "markdown",
   "metadata": {},
   "source": [
    "Most people did not visit the products related page"
   ]
  },
  {
   "cell_type": "code",
   "execution_count": 115,
   "metadata": {},
   "outputs": [
    {
     "data": {
      "image/png": "[encoded data removed]",
      "text/plain": [
       "plot without title"
      ]
     },
     "metadata": {},
     "output_type": "display_data"
    }
   ],
   "source": [
    "j = ggplot(e_com, aes(x = Administrative , fill = Revenue))+ \n",
    "geom_bar(width = 0.5)\n",
    "j"
   ]
  },
  {
   "cell_type": "markdown",
   "metadata": {},
   "source": [
    "very many people did not visit the adminstrative pages. Out of those that visited the pages, very few brought in revenue"
   ]
  },
  {
   "cell_type": "code",
   "execution_count": 120,
   "metadata": {},
   "outputs": [],
   "source": [
    "p = e_com[, c(1,2,3,4,5,6,7,8,9,10)]"
   ]
  },
  {
   "cell_type": "code",
   "execution_count": 132,
   "metadata": {},
   "outputs": [
    {
     "data": {
      "text/html": [
       "<table>\n",
       "<thead><tr><th></th><th scope=col>Administrative</th><th scope=col>Administrative_Duration</th><th scope=col>Informational</th><th scope=col>Informational_Duration</th><th scope=col>ProductRelated</th><th scope=col>ProductRelated_Duration</th><th scope=col>BounceRates</th><th scope=col>ExitRates</th><th scope=col>PageValues</th><th scope=col>SpecialDay</th></tr></thead>\n",
       "<tbody>\n",
       "\t<tr><th scope=row>Administrative</th><td> 1.00000000</td><td> 0.60040965</td><td> 0.37528761</td><td> 0.25478602</td><td> 0.42819151</td><td> 0.37102722</td><td>-0.21366664</td><td>-0.3112741 </td><td> 0.09692097</td><td>-0.09707210</td></tr>\n",
       "\t<tr><th scope=row>Administrative_Duration</th><td> 0.60040965</td><td> 1.00000000</td><td> 0.30143630</td><td> 0.23718986</td><td> 0.28678391</td><td> 0.35351379</td><td>-0.13733340</td><td>-0.2020245 </td><td> 0.06616837</td><td>-0.07473689</td></tr>\n",
       "\t<tr><th scope=row>Informational</th><td> 0.37528761</td><td> 0.30143630</td><td> 1.00000000</td><td> 0.61867795</td><td> 0.37260472</td><td> 0.38608372</td><td>-0.10950530</td><td>-0.1595668 </td><td> 0.04739015</td><td>-0.04937677</td></tr>\n",
       "\t<tr><th scope=row>Informational_Duration</th><td> 0.25478602</td><td> 0.23718986</td><td> 0.61867795</td><td> 1.00000000</td><td> 0.27906195</td><td> 0.34658069</td><td>-0.07015947</td><td>-0.1029327 </td><td> 0.03006416</td><td>-0.03129304</td></tr>\n",
       "\t<tr><th scope=row>ProductRelated</th><td> 0.42819151</td><td> 0.28678391</td><td> 0.37260472</td><td> 0.27906195</td><td> 1.00000000</td><td> 0.86030819</td><td>-0.19351577</td><td>-0.2861632 </td><td> 0.05411549</td><td>-0.02593062</td></tr>\n",
       "\t<tr><th scope=row>ProductRelated_Duration</th><td> 0.37102722</td><td> 0.35351379</td><td> 0.38608372</td><td> 0.34658069</td><td> 0.86030819</td><td> 1.00000000</td><td>-0.17437550</td><td>-0.2453340 </td><td> 0.05084062</td><td>-0.03821065</td></tr>\n",
       "\t<tr><th scope=row>BounceRates</th><td>-0.21366664</td><td>-0.13733340</td><td>-0.10950530</td><td>-0.07015947</td><td>-0.19351577</td><td>-0.17437550</td><td> 1.00000000</td><td> 0.9033582 </td><td>-0.11599198</td><td> 0.08783999</td></tr>\n",
       "\t<tr><th scope=row>ExitRates</th><td>-0.31127413</td><td>-0.20202445</td><td>-0.15956681</td><td>-0.10293268</td><td>-0.28616321</td><td>-0.24533401</td><td> 0.90335819</td><td> 1.0000000 </td><td>-0.17357154</td><td> 0.11678376</td></tr>\n",
       "\t<tr><th scope=row>PageValues</th><td> 0.09692097</td><td> 0.06616837</td><td> 0.04739015</td><td> 0.03006416</td><td> 0.05411549</td><td> 0.05084062</td><td>-0.11599198</td><td>-0.1735715 </td><td> 1.00000000</td><td>-0.06453271</td></tr>\n",
       "\t<tr><th scope=row>SpecialDay</th><td>-0.09707210</td><td>-0.07473689</td><td>-0.04937677</td><td>-0.03129304</td><td>-0.02593062</td><td>-0.03821065</td><td> 0.08783999</td><td> 0.1167838 </td><td>-0.06453271</td><td> 1.00000000</td></tr>\n",
       "</tbody>\n",
       "</table>\n"
      ],
      "text/latex": [
       "\\begin{tabular}{r|llllllllll}\n",
       "  & Administrative & Administrative\\_Duration & Informational & Informational\\_Duration & ProductRelated & ProductRelated\\_Duration & BounceRates & ExitRates & PageValues & SpecialDay\\\\\n",
       "\\hline\n",
       "\tAdministrative &  1.00000000 &  0.60040965 &  0.37528761 &  0.25478602 &  0.42819151 &  0.37102722 & -0.21366664 & -0.3112741  &  0.09692097 & -0.09707210\\\\\n",
       "\tAdministrative\\_Duration &  0.60040965 &  1.00000000 &  0.30143630 &  0.23718986 &  0.28678391 &  0.35351379 & -0.13733340 & -0.2020245  &  0.06616837 & -0.07473689\\\\\n",
       "\tInformational &  0.37528761 &  0.30143630 &  1.00000000 &  0.61867795 &  0.37260472 &  0.38608372 & -0.10950530 & -0.1595668  &  0.04739015 & -0.04937677\\\\\n",
       "\tInformational\\_Duration &  0.25478602 &  0.23718986 &  0.61867795 &  1.00000000 &  0.27906195 &  0.34658069 & -0.07015947 & -0.1029327  &  0.03006416 & -0.03129304\\\\\n",
       "\tProductRelated &  0.42819151 &  0.28678391 &  0.37260472 &  0.27906195 &  1.00000000 &  0.86030819 & -0.19351577 & -0.2861632  &  0.05411549 & -0.02593062\\\\\n",
       "\tProductRelated\\_Duration &  0.37102722 &  0.35351379 &  0.38608372 &  0.34658069 &  0.86030819 &  1.00000000 & -0.17437550 & -0.2453340  &  0.05084062 & -0.03821065\\\\\n",
       "\tBounceRates & -0.21366664 & -0.13733340 & -0.10950530 & -0.07015947 & -0.19351577 & -0.17437550 &  1.00000000 &  0.9033582  & -0.11599198 &  0.08783999\\\\\n",
       "\tExitRates & -0.31127413 & -0.20202445 & -0.15956681 & -0.10293268 & -0.28616321 & -0.24533401 &  0.90335819 &  1.0000000  & -0.17357154 &  0.11678376\\\\\n",
       "\tPageValues &  0.09692097 &  0.06616837 &  0.04739015 &  0.03006416 &  0.05411549 &  0.05084062 & -0.11599198 & -0.1735715  &  1.00000000 & -0.06453271\\\\\n",
       "\tSpecialDay & -0.09707210 & -0.07473689 & -0.04937677 & -0.03129304 & -0.02593062 & -0.03821065 &  0.08783999 &  0.1167838  & -0.06453271 &  1.00000000\\\\\n",
       "\\end{tabular}\n"
      ],
      "text/markdown": [
       "\n",
       "| <!--/--> | Administrative | Administrative_Duration | Informational | Informational_Duration | ProductRelated | ProductRelated_Duration | BounceRates | ExitRates | PageValues | SpecialDay |\n",
       "|---|---|---|---|---|---|---|---|---|---|---|\n",
       "| Administrative |  1.00000000 |  0.60040965 |  0.37528761 |  0.25478602 |  0.42819151 |  0.37102722 | -0.21366664 | -0.3112741  |  0.09692097 | -0.09707210 |\n",
       "| Administrative_Duration |  0.60040965 |  1.00000000 |  0.30143630 |  0.23718986 |  0.28678391 |  0.35351379 | -0.13733340 | -0.2020245  |  0.06616837 | -0.07473689 |\n",
       "| Informational |  0.37528761 |  0.30143630 |  1.00000000 |  0.61867795 |  0.37260472 |  0.38608372 | -0.10950530 | -0.1595668  |  0.04739015 | -0.04937677 |\n",
       "| Informational_Duration |  0.25478602 |  0.23718986 |  0.61867795 |  1.00000000 |  0.27906195 |  0.34658069 | -0.07015947 | -0.1029327  |  0.03006416 | -0.03129304 |\n",
       "| ProductRelated |  0.42819151 |  0.28678391 |  0.37260472 |  0.27906195 |  1.00000000 |  0.86030819 | -0.19351577 | -0.2861632  |  0.05411549 | -0.02593062 |\n",
       "| ProductRelated_Duration |  0.37102722 |  0.35351379 |  0.38608372 |  0.34658069 |  0.86030819 |  1.00000000 | -0.17437550 | -0.2453340  |  0.05084062 | -0.03821065 |\n",
       "| BounceRates | -0.21366664 | -0.13733340 | -0.10950530 | -0.07015947 | -0.19351577 | -0.17437550 |  1.00000000 |  0.9033582  | -0.11599198 |  0.08783999 |\n",
       "| ExitRates | -0.31127413 | -0.20202445 | -0.15956681 | -0.10293268 | -0.28616321 | -0.24533401 |  0.90335819 |  1.0000000  | -0.17357154 |  0.11678376 |\n",
       "| PageValues |  0.09692097 |  0.06616837 |  0.04739015 |  0.03006416 |  0.05411549 |  0.05084062 | -0.11599198 | -0.1735715  |  1.00000000 | -0.06453271 |\n",
       "| SpecialDay | -0.09707210 | -0.07473689 | -0.04937677 | -0.03129304 | -0.02593062 | -0.03821065 |  0.08783999 |  0.1167838  | -0.06453271 |  1.00000000 |\n",
       "\n"
      ],
      "text/plain": [
       "                        Administrative Administrative_Duration Informational\n",
       "Administrative           1.00000000     0.60040965              0.37528761  \n",
       "Administrative_Duration  0.60040965     1.00000000              0.30143630  \n",
       "Informational            0.37528761     0.30143630              1.00000000  \n",
       "Informational_Duration   0.25478602     0.23718986              0.61867795  \n",
       "ProductRelated           0.42819151     0.28678391              0.37260472  \n",
       "ProductRelated_Duration  0.37102722     0.35351379              0.38608372  \n",
       "BounceRates             -0.21366664    -0.13733340             -0.10950530  \n",
       "ExitRates               -0.31127413    -0.20202445             -0.15956681  \n",
       "PageValues               0.09692097     0.06616837              0.04739015  \n",
       "SpecialDay              -0.09707210    -0.07473689             -0.04937677  \n",
       "                        Informational_Duration ProductRelated\n",
       "Administrative           0.25478602             0.42819151   \n",
       "Administrative_Duration  0.23718986             0.28678391   \n",
       "Informational            0.61867795             0.37260472   \n",
       "Informational_Duration   1.00000000             0.27906195   \n",
       "ProductRelated           0.27906195             1.00000000   \n",
       "ProductRelated_Duration  0.34658069             0.86030819   \n",
       "BounceRates             -0.07015947            -0.19351577   \n",
       "ExitRates               -0.10293268            -0.28616321   \n",
       "PageValues               0.03006416             0.05411549   \n",
       "SpecialDay              -0.03129304            -0.02593062   \n",
       "                        ProductRelated_Duration BounceRates ExitRates \n",
       "Administrative           0.37102722             -0.21366664 -0.3112741\n",
       "Administrative_Duration  0.35351379             -0.13733340 -0.2020245\n",
       "Informational            0.38608372             -0.10950530 -0.1595668\n",
       "Informational_Duration   0.34658069             -0.07015947 -0.1029327\n",
       "ProductRelated           0.86030819             -0.19351577 -0.2861632\n",
       "ProductRelated_Duration  1.00000000             -0.17437550 -0.2453340\n",
       "BounceRates             -0.17437550              1.00000000  0.9033582\n",
       "ExitRates               -0.24533401              0.90335819  1.0000000\n",
       "PageValues               0.05084062             -0.11599198 -0.1735715\n",
       "SpecialDay              -0.03821065              0.08783999  0.1167838\n",
       "                        PageValues  SpecialDay \n",
       "Administrative           0.09692097 -0.09707210\n",
       "Administrative_Duration  0.06616837 -0.07473689\n",
       "Informational            0.04739015 -0.04937677\n",
       "Informational_Duration   0.03006416 -0.03129304\n",
       "ProductRelated           0.05411549 -0.02593062\n",
       "ProductRelated_Duration  0.05084062 -0.03821065\n",
       "BounceRates             -0.11599198  0.08783999\n",
       "ExitRates               -0.17357154  0.11678376\n",
       "PageValues               1.00000000 -0.06453271\n",
       "SpecialDay              -0.06453271  1.00000000"
      ]
     },
     "metadata": {},
     "output_type": "display_data"
    },
    {
     "data": {
      "image/png": "[encoded data removed]",
      "text/plain": [
       "Plot with title \"\""
      ]
     },
     "metadata": {},
     "output_type": "display_data"
    }
   ],
   "source": [
    "#install.packages('corrplot')\n",
    "#e_com.num <- p[, sapply(p, is.numeric)]\n",
    "data.cor = cor(p)\n",
    "data.cor\n",
    "library(corrplot)\n",
    "corrplot(data.cor, type = 'lower')"
   ]
  },
  {
   "cell_type": "markdown",
   "metadata": {},
   "source": [
    "Not many people visited the adminstrative pages. Out of those who visited the pages, very few of them brought in revenue. "
   ]
  },
  {
   "cell_type": "markdown",
   "metadata": {},
   "source": [
    "Variables seen to have a high correlation include:\n",
    "1) ExitRates and Page values\n",
    "2) Product related_duration and bounce rates.\n",
    "Most of the other variables have a correlation of between -0.2 and 0.4"
   ]
  },
  {
   "cell_type": "markdown",
   "metadata": {},
   "source": [
    "# UNSUPERVISED LEARNING"
   ]
  },
  {
   "cell_type": "markdown",
   "metadata": {},
   "source": [
    " ## K - Means Algorithm"
   ]
  },
  {
   "cell_type": "code",
   "execution_count": 133,
   "metadata": {},
   "outputs": [],
   "source": [
    "# Sepaeating features and ladels\n",
    "# features\n",
    "e_com_feat = e_com[, c(1,2,3,4,5,6,7,8,9,10,11,12,13,14,15,16,17)]\n",
    "\n",
    "# labels\n",
    "e_com_lab = e_com[, 18]"
   ]
  },
  {
   "cell_type": "code",
   "execution_count": 134,
   "metadata": {},
   "outputs": [],
   "source": [
    "# Normalizing the dataset so that no particular numerical attribute \n",
    "# has more impact on clustering algorithm than others.\n",
    "# ---\n",
    "# \n",
    "normalize <- function(x){\n",
    "  return ((x-min(x)) / (max(x)-min(x)))\n",
    "}"
   ]
  },
  {
   "cell_type": "code",
   "execution_count": 135,
   "metadata": {},
   "outputs": [],
   "source": [
    "# storing the numerical attributes in a new variable, then applying normalisation function.\n",
    "\n",
    "p = c('Administrative','Administrative_Duration','Informational','Informational_Duration','ProductRelated','ProductRelated_Duration','BounceRates','ExitRates','PageValues','SpecialDay')\n",
    "for (i in p){\n",
    "    e_com_feat[, i] = normalize(e_com_feat[, i]) \n",
    "}\n"
   ]
  },
  {
   "cell_type": "code",
   "execution_count": 136,
   "metadata": {},
   "outputs": [],
   "source": [
    "# label encoding needs to be done on some categorical variables.\n",
    "# storing the numerical attributes in a new variable, then converting them to numerics.\n",
    "\n",
    "g = c('Month','VisitorType', 'Weekend')\n",
    "for (i in g){\n",
    "    e_com_feat[,i] = as.numeric(e_com_feat[,i])\n",
    "}\n"
   ]
  },
  {
   "cell_type": "code",
   "execution_count": 137,
   "metadata": {},
   "outputs": [
    {
     "data": {
      "text/html": [
       "<table>\n",
       "<thead><tr><th scope=col>Administrative</th><th scope=col>Administrative_Duration</th><th scope=col>Informational</th><th scope=col>Informational_Duration</th><th scope=col>ProductRelated</th><th scope=col>ProductRelated_Duration</th><th scope=col>BounceRates</th><th scope=col>ExitRates</th><th scope=col>PageValues</th><th scope=col>SpecialDay</th><th scope=col>Month</th><th scope=col>OperatingSystems</th><th scope=col>Browser</th><th scope=col>Region</th><th scope=col>TrafficType</th><th scope=col>VisitorType</th><th scope=col>Weekend</th></tr></thead>\n",
       "<tbody>\n",
       "\t<tr><td>0           </td><td>0.0002941393</td><td>0           </td><td>0.0003920992</td><td>0.001418440 </td><td>1.563122e-05</td><td>1.00000000  </td><td>1.000000    </td><td>0           </td><td>0           </td><td>3           </td><td>1           </td><td>1           </td><td>1           </td><td>1           </td><td>3           </td><td>0           </td></tr>\n",
       "\t<tr><td>0           </td><td>0.0002941393</td><td>0           </td><td>0.0003920992</td><td>0.002836879 </td><td>1.016029e-03</td><td>0.00000000  </td><td>0.500000    </td><td>0           </td><td>0           </td><td>3           </td><td>2           </td><td>2           </td><td>1           </td><td>2           </td><td>3           </td><td>0           </td></tr>\n",
       "\t<tr><td>0           </td><td>0.0000000000</td><td>0           </td><td>0.0000000000</td><td>0.001418440 </td><td>0.000000e+00</td><td>1.00000000  </td><td>1.000000    </td><td>0           </td><td>0           </td><td>3           </td><td>4           </td><td>1           </td><td>9           </td><td>3           </td><td>3           </td><td>0           </td></tr>\n",
       "\t<tr><td>0           </td><td>0.0002941393</td><td>0           </td><td>0.0003920992</td><td>0.002836879 </td><td>5.731448e-05</td><td>0.25000000  </td><td>0.700000    </td><td>0           </td><td>0           </td><td>3           </td><td>3           </td><td>2           </td><td>2           </td><td>4           </td><td>3           </td><td>0           </td></tr>\n",
       "\t<tr><td>0           </td><td>0.0002941393</td><td>0           </td><td>0.0003920992</td><td>0.014184397 </td><td>9.824223e-03</td><td>0.10000000  </td><td>0.250000    </td><td>0           </td><td>0           </td><td>3           </td><td>3           </td><td>3           </td><td>1           </td><td>4           </td><td>3           </td><td>1           </td></tr>\n",
       "\t<tr><td>0           </td><td>0.0002941393</td><td>0           </td><td>0.0003920992</td><td>0.026950355 </td><td>2.426226e-03</td><td>0.07894737  </td><td>0.122807    </td><td>0           </td><td>0           </td><td>3           </td><td>2           </td><td>2           </td><td>1           </td><td>3           </td><td>3           </td><td>0           </td></tr>\n",
       "</tbody>\n",
       "</table>\n"
      ],
      "text/latex": [
       "\\begin{tabular}{r|lllllllllllllllll}\n",
       " Administrative & Administrative\\_Duration & Informational & Informational\\_Duration & ProductRelated & ProductRelated\\_Duration & BounceRates & ExitRates & PageValues & SpecialDay & Month & OperatingSystems & Browser & Region & TrafficType & VisitorType & Weekend\\\\\n",
       "\\hline\n",
       "\t 0            & 0.0002941393 & 0            & 0.0003920992 & 0.001418440  & 1.563122e-05 & 1.00000000   & 1.000000     & 0            & 0            & 3            & 1            & 1            & 1            & 1            & 3            & 0           \\\\\n",
       "\t 0            & 0.0002941393 & 0            & 0.0003920992 & 0.002836879  & 1.016029e-03 & 0.00000000   & 0.500000     & 0            & 0            & 3            & 2            & 2            & 1            & 2            & 3            & 0           \\\\\n",
       "\t 0            & 0.0000000000 & 0            & 0.0000000000 & 0.001418440  & 0.000000e+00 & 1.00000000   & 1.000000     & 0            & 0            & 3            & 4            & 1            & 9            & 3            & 3            & 0           \\\\\n",
       "\t 0            & 0.0002941393 & 0            & 0.0003920992 & 0.002836879  & 5.731448e-05 & 0.25000000   & 0.700000     & 0            & 0            & 3            & 3            & 2            & 2            & 4            & 3            & 0           \\\\\n",
       "\t 0            & 0.0002941393 & 0            & 0.0003920992 & 0.014184397  & 9.824223e-03 & 0.10000000   & 0.250000     & 0            & 0            & 3            & 3            & 3            & 1            & 4            & 3            & 1           \\\\\n",
       "\t 0            & 0.0002941393 & 0            & 0.0003920992 & 0.026950355  & 2.426226e-03 & 0.07894737   & 0.122807     & 0            & 0            & 3            & 2            & 2            & 1            & 3            & 3            & 0           \\\\\n",
       "\\end{tabular}\n"
      ],
      "text/markdown": [
       "\n",
       "| Administrative | Administrative_Duration | Informational | Informational_Duration | ProductRelated | ProductRelated_Duration | BounceRates | ExitRates | PageValues | SpecialDay | Month | OperatingSystems | Browser | Region | TrafficType | VisitorType | Weekend |\n",
       "|---|---|---|---|---|---|---|---|---|---|---|---|---|---|---|---|---|\n",
       "| 0            | 0.0002941393 | 0            | 0.0003920992 | 0.001418440  | 1.563122e-05 | 1.00000000   | 1.000000     | 0            | 0            | 3            | 1            | 1            | 1            | 1            | 3            | 0            |\n",
       "| 0            | 0.0002941393 | 0            | 0.0003920992 | 0.002836879  | 1.016029e-03 | 0.00000000   | 0.500000     | 0            | 0            | 3            | 2            | 2            | 1            | 2            | 3            | 0            |\n",
       "| 0            | 0.0000000000 | 0            | 0.0000000000 | 0.001418440  | 0.000000e+00 | 1.00000000   | 1.000000     | 0            | 0            | 3            | 4            | 1            | 9            | 3            | 3            | 0            |\n",
       "| 0            | 0.0002941393 | 0            | 0.0003920992 | 0.002836879  | 5.731448e-05 | 0.25000000   | 0.700000     | 0            | 0            | 3            | 3            | 2            | 2            | 4            | 3            | 0            |\n",
       "| 0            | 0.0002941393 | 0            | 0.0003920992 | 0.014184397  | 9.824223e-03 | 0.10000000   | 0.250000     | 0            | 0            | 3            | 3            | 3            | 1            | 4            | 3            | 1            |\n",
       "| 0            | 0.0002941393 | 0            | 0.0003920992 | 0.026950355  | 2.426226e-03 | 0.07894737   | 0.122807     | 0            | 0            | 3            | 2            | 2            | 1            | 3            | 3            | 0            |\n",
       "\n"
      ],
      "text/plain": [
       "  Administrative Administrative_Duration Informational Informational_Duration\n",
       "1 0              0.0002941393            0             0.0003920992          \n",
       "2 0              0.0002941393            0             0.0003920992          \n",
       "3 0              0.0000000000            0             0.0000000000          \n",
       "4 0              0.0002941393            0             0.0003920992          \n",
       "5 0              0.0002941393            0             0.0003920992          \n",
       "6 0              0.0002941393            0             0.0003920992          \n",
       "  ProductRelated ProductRelated_Duration BounceRates ExitRates PageValues\n",
       "1 0.001418440    1.563122e-05            1.00000000  1.000000  0         \n",
       "2 0.002836879    1.016029e-03            0.00000000  0.500000  0         \n",
       "3 0.001418440    0.000000e+00            1.00000000  1.000000  0         \n",
       "4 0.002836879    5.731448e-05            0.25000000  0.700000  0         \n",
       "5 0.014184397    9.824223e-03            0.10000000  0.250000  0         \n",
       "6 0.026950355    2.426226e-03            0.07894737  0.122807  0         \n",
       "  SpecialDay Month OperatingSystems Browser Region TrafficType VisitorType\n",
       "1 0          3     1                1       1      1           3          \n",
       "2 0          3     2                2       1      2           3          \n",
       "3 0          3     4                1       9      3           3          \n",
       "4 0          3     3                2       2      4           3          \n",
       "5 0          3     3                3       1      4           3          \n",
       "6 0          3     2                2       1      3           3          \n",
       "  Weekend\n",
       "1 0      \n",
       "2 0      \n",
       "3 0      \n",
       "4 0      \n",
       "5 1      \n",
       "6 0      "
      ]
     },
     "metadata": {},
     "output_type": "display_data"
    }
   ],
   "source": [
    "# Preview of the features\n",
    "head (e_com_feat)"
   ]
  },
  {
   "cell_type": "code",
   "execution_count": 138,
   "metadata": {},
   "outputs": [],
   "source": [
    "# Applying the K-means clustering algorithm with no. of centroids(k)=2\n",
    "# ---\n",
    "# \n",
    "k_model <- kmeans(e_com_feat,2) \n"
   ]
  },
  {
   "cell_type": "code",
   "execution_count": 139,
   "metadata": {},
   "outputs": [
    {
     "data": {
      "text/html": [
       "<ol class=list-inline>\n",
       "\t<li>10116</li>\n",
       "\t<li>2083</li>\n",
       "</ol>\n"
      ],
      "text/latex": [
       "\\begin{enumerate*}\n",
       "\\item 10116\n",
       "\\item 2083\n",
       "\\end{enumerate*}\n"
      ],
      "text/markdown": [
       "1. 10116\n",
       "2. 2083\n",
       "\n",
       "\n"
      ],
      "text/plain": [
       "[1] 10116  2083"
      ]
     },
     "metadata": {},
     "output_type": "display_data"
    },
    {
     "data": {
      "text/plain": [
       "   \n",
       "       0    1\n",
       "  1 8541 1575\n",
       "  2 1750  333"
      ]
     },
     "metadata": {},
     "output_type": "display_data"
    }
   ],
   "source": [
    "# Previewing the no. of records in each cluster\n",
    "# \n",
    "k_model$cluster_obs = as.numeric(e_com_lab)\n",
    "\n",
    "k_model$size \n",
    "table(k_model$cluster,k_model$cluster_obs )"
   ]
  },
  {
   "cell_type": "code",
   "execution_count": 140,
   "metadata": {},
   "outputs": [
    {
     "data": {
      "text/html": [
       "0.129108943356013"
      ],
      "text/latex": [
       "0.129108943356013"
      ],
      "text/markdown": [
       "0.129108943356013"
      ],
      "text/plain": [
       "[1] 0.1291089"
      ]
     },
     "metadata": {},
     "output_type": "display_data"
    }
   ],
   "source": [
    "#checking clustering accuracy\n",
    "\n",
    "mean(k_model$cluster_obs == k_model$cluster)\n"
   ]
  },
  {
   "cell_type": "markdown",
   "metadata": {},
   "source": [
    "k-means performed very poorly"
   ]
  },
  {
   "cell_type": "markdown",
   "metadata": {},
   "source": [
    "## Hierachichal clustering Algorithm"
   ]
  },
  {
   "cell_type": "code",
   "execution_count": 141,
   "metadata": {},
   "outputs": [],
   "source": [
    "# Calculating euclidean distances of the independent variables.\n",
    "\n",
    "d <- dist(e_com_feat, method = \"euclidean\")"
   ]
  },
  {
   "cell_type": "code",
   "execution_count": 142,
   "metadata": {},
   "outputs": [],
   "source": [
    "# using the hclust clustering method.\n",
    "h_model <- hclust(d, method = \"ward.D2\" )\n"
   ]
  },
  {
   "cell_type": "code",
   "execution_count": 143,
   "metadata": {},
   "outputs": [
    {
     "data": {
      "image/png": "[encoded data removed]",
      "text/plain": [
       "Plot with title \"Cluster Dendrogram\""
      ]
     },
     "metadata": {},
     "output_type": "display_data"
    }
   ],
   "source": [
    "# plotting the dendogram\n",
    "plot(h_model, cex = 0.6, hang = -1)"
   ]
  },
  {
   "cell_type": "code",
   "execution_count": 144,
   "metadata": {},
   "outputs": [
    {
     "data": {
      "text/plain": [
       "sub_group\n",
       "    1     2 \n",
       "10224  1975 "
      ]
     },
     "metadata": {},
     "output_type": "display_data"
    }
   ],
   "source": [
    "# Cut tree into 2 groups.\n",
    "sub_group = cutree (h_model, k = 2)\n",
    "table (sub_group)"
   ]
  },
  {
   "cell_type": "code",
   "execution_count": 145,
   "metadata": {},
   "outputs": [
    {
     "data": {
      "text/plain": [
       "         \n",
       "sub_group    0    1\n",
       "        1 8602 1622\n",
       "        2 1689  286"
      ]
     },
     "metadata": {},
     "output_type": "display_data"
    }
   ],
   "source": [
    "table (sub_group, k_model$cluster_obs)"
   ]
  },
  {
   "cell_type": "code",
   "execution_count": 146,
   "metadata": {},
   "outputs": [
    {
     "data": {
      "text/html": [
       "0.132961718173621"
      ],
      "text/latex": [
       "0.132961718173621"
      ],
      "text/markdown": [
       "0.132961718173621"
      ],
      "text/plain": [
       "[1] 0.1329617"
      ]
     },
     "metadata": {},
     "output_type": "display_data"
    }
   ],
   "source": [
    "#checking accuracy\n",
    "mean(sub_group == k_model$cluster_obs)"
   ]
  },
  {
   "cell_type": "markdown",
   "metadata": {},
   "source": [
    "Accuracy has improved but still very low"
   ]
  },
  {
   "cell_type": "markdown",
   "metadata": {},
   "source": [
    "## DB - Scan Algorithm"
   ]
  },
  {
   "cell_type": "code",
   "execution_count": 147,
   "metadata": {},
   "outputs": [
    {
     "name": "stderr",
     "output_type": "stream",
     "text": [
      "Installing package into 'C:/Users/Admin/Documents/R/win-library/3.6'\n",
      "(as 'lib' is unspecified)\n",
      "Warning message:\n",
      "\"package 'dbscan' is in use and will not be installed\""
     ]
    }
   ],
   "source": [
    "#install.packages('dbscan')"
   ]
  },
  {
   "cell_type": "code",
   "execution_count": 149,
   "metadata": {},
   "outputs": [],
   "source": [
    "# Loading the required library\n",
    "\n",
    "library(\"dbscan\")"
   ]
  },
  {
   "cell_type": "code",
   "execution_count": 150,
   "metadata": {},
   "outputs": [
    {
     "name": "stderr",
     "output_type": "stream",
     "text": [
      "Warning message in dbscan(e_com_feat, eps = 0.4, MinPts = 4):\n",
      "\"converting argument MinPts (fpc) to minPts (dbscan)!\""
     ]
    }
   ],
   "source": [
    "# Applying our DBSCAN algorithm\n",
    "# using a minimum of 4 points with in a distance of eps(0.4)\n",
    "# \n",
    "l = c('OperatingSystems','Browser','Region','TrafficType')\n",
    "for (i in l){\n",
    "    e_com_feat[,i] = as.numeric(e_com_feat[,i])\n",
    "}\n",
    "\n",
    "db_model <- dbscan(e_com_feat,eps=0.4,MinPts = 4)\n"
   ]
  },
  {
   "cell_type": "code",
   "execution_count": 151,
   "metadata": {},
   "outputs": [
    {
     "name": "stdout",
     "output_type": "stream",
     "text": [
      "DBSCAN clustering for 12199 objects.\n",
      "Parameters: eps = 0.4, minPts = 4\n",
      "The clustering contains 633 cluster(s) and 5901 noise points.\n",
      "\n",
      "   0    1    2    3    4    5    6    7    8    9   10   11   12   13   14   15 \n",
      "5901    5   10    7    4   12   30   19   88   15   45   19   59    5    9   10 \n",
      "  16   17   18   19   20   21   22   23   24   25   26   27   28   29   30   31 \n",
      "   4    6    6   25    6    8   25    8    5    7   10    8   10    5    7   14 \n",
      "  32   33   34   35   36   37   38   39   40   41   42   43   44   45   46   47 \n",
      "   9   14   11    4   12   17   10    4    9   14   27   19   26    6    5    7 \n",
      "  48   49   50   51   52   53   54   55   56   57   58   59   60   61   62   63 \n",
      "   4   16    8   13    9    9   12    9    9    5    6    5    5    5    7    5 \n",
      "  64   65   66   67   68   69   70   71   72   73   74   75   76   77   78   79 \n",
      "   4    7    6    5    7    4   11    4    7    7    4   12    4    5    4    5 \n",
      "  80   81   82   83   84   85   86   87   88   89   90   91   92   93   94   95 \n",
      "   4    5    6    4   16    5    7    7   23    4    4    7    7    6    5    4 \n",
      "  96   97   98   99  100  101  102  103  104  105  106  107  108  109  110  111 \n",
      "   4    5    5    7    4    4   10    7    7    5    4    4    7    5    4    5 \n",
      " 112  113  114  115  116  117  118  119  120  121  122  123  124  125  126  127 \n",
      "   4    4    4    4   15    7    5    7   10   37   77    6   21   63    8   28 \n",
      " 128  129  130  131  132  133  134  135  136  137  138  139  140  141  142  143 \n",
      "  82    9   51   17   19    7   11    4   17   12    5   14    4   45   45    8 \n",
      " 144  145  146  147  148  149  150  151  152  153  154  155  156  157  158  159 \n",
      "  16    5   37   24   10   15    8   21    9    4   10    4   24    7    8    6 \n",
      " 160  161  162  163  164  165  166  167  168  169  170  171  172  173  174  175 \n",
      "   9    6    8   31    6   15    5   10   12    8    6    4   12   23   11   12 \n",
      " 176  177  178  179  180  181  182  183  184  185  186  187  188  189  190  191 \n",
      "  21   49    5    5    7    5    5    6   19    4   14    5    5   14    4    8 \n",
      " 192  193  194  195  196  197  198  199  200  201  202  203  204  205  206  207 \n",
      "   4    5    4    9    4    7    7   14    7    5    6    5    4    8    5    5 \n",
      " 208  209  210  211  212  213  214  215  216  217  218  219  220  221  222  223 \n",
      "  20   15    6    4    7    9    8    4    8   14    4    5    8   29    9   10 \n",
      " 224  225  226  227  228  229  230  231  232  233  234  235  236  237  238  239 \n",
      "  12    8   11   14   13    4    5    6    4    9    6    5   10    5    4    5 \n",
      " 240  241  242  243  244  245  246  247  248  249  250  251  252  253  254  255 \n",
      "   7   14    5    4    4    5    6    4   11    5    4    4    5    7    4    4 \n",
      " 256  257  258  259  260  261  262  263  264  265  266  267  268  269  270  271 \n",
      "   7    5    4    5    4    4    6    4    5    4    7    4    4    4    4    5 \n",
      " 272  273  274  275  276  277  278  279  280  281  282  283  284  285  286  287 \n",
      "   4    7    8    4    4    4    4    4    4    4    4    4    4    4    6    4 \n",
      " 288  289  290  291  292  293  294  295  296  297  298  299  300  301  302  303 \n",
      "   8    5    5    5   15    7    4    5    7    5    6    8    5    6    5    7 \n",
      " 304  305  306  307  308  309  310  311  312  313  314  315  316  317  318  319 \n",
      "   7    9    7    5    4    6    5    5    7    4    8   26    9    7    4    4 \n",
      " 320  321  322  323  324  325  326  327  328  329  330  331  332  333  334  335 \n",
      "   4    8   23    5   11    6    9    4    4   19    8    4   16    5    4   24 \n",
      " 336  337  338  339  340  341  342  343  344  345  346  347  348  349  350  351 \n",
      "   4   46    6    8    5    4    4   15    4    4    8    4   10    4   39   17 \n",
      " 352  353  354  355  356  357  358  359  360  361  362  363  364  365  366  367 \n",
      "  12    5    5    6    6    5   23   12    6   10    5    4   14    5    4    5 \n",
      " 368  369  370  371  372  373  374  375  376  377  378  379  380  381  382  383 \n",
      "  15    4  181    8    5   29    7    4    7   10   12    4    6    4    4   58 \n",
      " 384  385  386  387  388  389  390  391  392  393  394  395  396  397  398  399 \n",
      "  10    6    6    4    6    4    9   16    4    4    6    4    4    7    4    6 \n",
      " 400  401  402  403  404  405  406  407  408  409  410  411  412  413  414  415 \n",
      "  15    5    4    4    6   27    6    4   30    6    5    8    5    4   74    4 \n",
      " 416  417  418  419  420  421  422  423  424  425  426  427  428  429  430  431 \n",
      "   8    6    5   15    7    8   24    5   61   17   12   45    4   19    4    4 \n",
      " 432  433  434  435  436  437  438  439  440  441  442  443  444  445  446  447 \n",
      "   4    4   33    4    4    6    6   24    5   13    6    4   19    4    4    8 \n",
      " 448  449  450  451  452  453  454  455  456  457  458  459  460  461  462  463 \n",
      "   4   11    9    5    4    4   15   14    9   16   38    4   74    7   40    6 \n",
      " 464  465  466  467  468  469  470  471  472  473  474  475  476  477  478  479 \n",
      "  36    5    5   14    5    6    9    8   13    7   15   14    7   40    4    4 \n",
      " 480  481  482  483  484  485  486  487  488  489  490  491  492  493  494  495 \n",
      "  30    9   13    6    8    9    4    6    7   24   11   16   17    5    5   11 \n",
      " 496  497  498  499  500  501  502  503  504  505  506  507  508  509  510  511 \n",
      "  19    5    5    7    4   32    4   15    6   24   13    5   16   10   13   14 \n",
      " 512  513  514  515  516  517  518  519  520  521  522  523  524  525  526  527 \n",
      "   4    5    7   11   28    8   16    5    9    4    9   28    8    7   15    4 \n",
      " 528  529  530  531  532  533  534  535  536  537  538  539  540  541  542  543 \n",
      "   5    7    7   10    5    7    6    8    8    5    6    5    4   11   19    6 \n",
      " 544  545  546  547  548  549  550  551  552  553  554  555  556  557  558  559 \n",
      "   4    7    8    4    4    5    7   11    9    4    5    7   13    4    6    4 \n",
      " 560  561  562  563  564  565  566  567  568  569  570  571  572  573  574  575 \n",
      "   9    8    6    9    5    5    4    5    7   10    4    4    5    6    6    4 \n",
      " 576  577  578  579  580  581  582  583  584  585  586  587  588  589  590  591 \n",
      "   7    9    5    4    5   10    5    5    4    6   12    5    7    4    6    4 \n",
      " 592  593  594  595  596  597  598  599  600  601  602  603  604  605  606  607 \n",
      "   4    4    4   10    4   10    6    5    5    5    4    4    4    4    7    5 \n",
      " 608  609  610  611  612  613  614  615  616  617  618  619  620  621  622  623 \n",
      "   4    4    4    4    4    7    5    5    8    4    8    4    4    5    4    4 \n",
      " 624  625  626  627  628  629  630  631  632  633 \n",
      "   4    4    5    4    4    4    6    4    4    4 \n",
      "\n",
      "Available fields: cluster, eps, minPts\n"
     ]
    }
   ],
   "source": [
    "print(db_model)"
   ]
  },
  {
   "cell_type": "code",
   "execution_count": 152,
   "metadata": {},
   "outputs": [
    {
     "name": "stderr",
     "output_type": "stream",
     "text": [
      "Warning message in hullplot(e_com_feat, db_model$cluster):\n",
      "\"Not enough colors. Some colors will be reused.\""
     ]
    },
    {
     "data": {
      "image/png": "[encoded data removed]",
      "text/plain": [
       "Plot with title \"Convex Cluster Hulls\""
      ]
     },
     "metadata": {},
     "output_type": "display_data"
    }
   ],
   "source": [
    "hullplot(e_com_feat,db_model$cluster)"
   ]
  }
 ],
 "metadata": {
  "kernelspec": {
   "display_name": "R",
   "language": "R",
   "name": "ir"
  },
  "language_info": {
   "codemirror_mode": "r",
   "file_extension": ".r",
   "mimetype": "text/x-r-source",
   "name": "R",
   "pygments_lexer": "r",
   "version": "3.6.1"
  },
  "nbTranslate": {
   "displayLangs": [
    "*"
   ],
   "hotkey": "alt-t",
   "langInMainMenu": true,
   "sourceLang": "en",
   "targetLang": "fr",
   "useGoogleTranslate": true
  },
  "toc": {
   "base_numbering": 1,
   "nav_menu": {},
   "number_sections": true,
   "sideBar": true,
   "skip_h1_title": false,
   "title_cell": "Table of Contents",
   "title_sidebar": "Contents",
   "toc_cell": false,
   "toc_position": {
    "height": "438px",
    "left": "32px",
    "top": "110px",
    "width": "228.188px"
   },
   "toc_section_display": true,
   "toc_window_display": true
  }
 },
 "nbformat": 4,
 "nbformat_minor": 2
}
